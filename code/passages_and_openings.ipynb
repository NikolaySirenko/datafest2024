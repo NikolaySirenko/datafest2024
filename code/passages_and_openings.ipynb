{
 "cells": [
  {
   "cell_type": "code",
   "execution_count": 31,
   "metadata": {},
   "outputs": [],
   "source": [
    "import pandas as pd\n",
    "import os"
   ]
  },
  {
   "cell_type": "code",
   "execution_count": 32,
   "metadata": {},
   "outputs": [],
   "source": [
    "# Adjust pandas display options to ensure all columns are shown\n",
    "pd.set_option('display.max_columns', None)\n",
    "pd.set_option('display.max_colwidth', None)\n",
    "pd.set_option('display.width', None)\n",
    "pd.set_option('display.max_rows', None)"
   ]
  },
  {
   "cell_type": "code",
   "execution_count": 33,
   "metadata": {},
   "outputs": [
    {
     "data": {
      "text/plain": [
       "['../jrcz_datafest_2024_datasets\\\\data-bridge-openings-2023\\\\bridge-openings-2023-Processed-KSB-SB.csv',\n",
       " '../jrcz_datafest_2024_datasets\\\\data-bridge-openings-2023\\\\zeeland_passages_2023.csv',\n",
       " '../jrcz_datafest_2024_datasets\\\\data-weather\\\\by-day\\\\weer-daggegevens-2023-vlis-dates-parsed.csv',\n",
       " '../jrcz_datafest_2024_datasets\\\\data-weather\\\\by-day\\\\weer-daggegevens-2023-vlis.csv',\n",
       " '../jrcz_datafest_2024_datasets\\\\data-weather\\\\by-day\\\\weer-uurgegevens-2023-vlis-datetimes-parsed.csv',\n",
       " '../jrcz_datafest_2024_datasets\\\\data-weather\\\\by-hour\\\\weer-uurgegevens-processed-2023.csv',\n",
       " '../jrcz_datafest_2024_datasets\\\\holidays\\\\national_holidays_NLBEDEFR_2023.csv',\n",
       " '../jrcz_datafest_2024_datasets\\\\holidays\\\\school_holidays_NLBEDEFR_2023.csv',\n",
       " '../jrcz_datafest_2024_datasets\\\\intensity-speed-export-a58-east\\\\intensity-speed-export-2022.csv',\n",
       " '../jrcz_datafest_2024_datasets\\\\intensity-speed-export-a58-east\\\\intensity-speed-export-2023.csv',\n",
       " '../jrcz_datafest_2024_datasets\\\\intensity-speed-export-a58-west\\\\intensity-speed-export-2022.csv',\n",
       " '../jrcz_datafest_2024_datasets\\\\intensity-speed-export-a58-west\\\\intensity-speed-export-2023.csv',\n",
       " '../jrcz_datafest_2024_datasets\\\\vri-data\\\\vri_data_2023.csv',\n",
       " '../jrcz_datafest_2024_datasets\\\\vri-data\\\\vri_names.csv']"
      ]
     },
     "execution_count": 33,
     "metadata": {},
     "output_type": "execute_result"
    }
   ],
   "source": [
    "csv_files = []\n",
    "# Walk the directory tree\n",
    "for root, dirs, files in os.walk('../jrcz_datafest_2024_datasets'):\n",
    "    for file in files:\n",
    "        # Check if the file ends with '.csv'\n",
    "        if file.endswith('.csv'):\n",
    "            # Get the full path to the file\n",
    "            full_path = os.path.join(root, file)\n",
    "            csv_files.append(full_path)\n",
    "\n",
    "csv_files"
   ]
  },
  {
   "cell_type": "code",
   "execution_count": 34,
   "metadata": {},
   "outputs": [],
   "source": [
    "df_file_path = (csv_files[1])\n",
    "df_zeeland_passages = pd.read_csv(df_file_path, delimiter=';')\n"
   ]
  },
  {
   "cell_type": "code",
   "execution_count": null,
   "metadata": {},
   "outputs": [],
   "source": []
  },
  {
   "cell_type": "code",
   "execution_count": 35,
   "metadata": {},
   "outputs": [
    {
     "name": "stdout",
     "output_type": "stream",
     "text": [
      "<class 'pandas.core.frame.DataFrame'>\n",
      "RangeIndex: 392 entries, 0 to 391\n",
      "Data columns (total 15 columns):\n",
      " #   Column                            Non-Null Count  Dtype  \n",
      "---  ------                            --------------  -----  \n",
      " 0   BeginJaarEvenement                392 non-null    int64  \n",
      " 1   BeginMaandEvenement               392 non-null    int64  \n",
      " 2   TelpuntNaam                       392 non-null    object \n",
      " 3   Kolknaam                          228 non-null    object \n",
      " 4   ScheepstypeCategorieOmschrijving  392 non-null    object \n",
      " 5   SeinvoeringOmschrijving           312 non-null    object \n",
      " 6   AantalSchepen                     392 non-null    int64  \n",
      " 7   AantalSchepenGeladen              139 non-null    float64\n",
      " 8   AantalSchepenLeeg                 350 non-null    float64\n",
      " 9   AantalContainers                  263 non-null    float64\n",
      " 10  AantalTEU                         263 non-null    float64\n",
      " 11  LaadvermogenTotaal                392 non-null    int64  \n",
      " 12  LaadvermogenTotaalGeladen         139 non-null    float64\n",
      " 13  LaadvermogenTotaalLeeg            350 non-null    float64\n",
      " 14  VervoerdGewichtTon                153 non-null    float64\n",
      "dtypes: float64(7), int64(4), object(4)\n",
      "memory usage: 46.1+ KB\n"
     ]
    }
   ],
   "source": [
    "df_zeeland_passages.info()"
   ]
  },
  {
   "cell_type": "code",
   "execution_count": 36,
   "metadata": {},
   "outputs": [
    {
     "data": {
      "text/plain": [
       "TelpuntNaam\n",
       "Sluis Vlissingen            142\n",
       "Sluis Veere                  86\n",
       "Zeelandbrug 1                81\n",
       "Keersluisbrug Vlissingen     67\n",
       "Arne Bruggen                 16\n",
       "Name: count, dtype: int64"
      ]
     },
     "execution_count": 36,
     "metadata": {},
     "output_type": "execute_result"
    }
   ],
   "source": [
    "df_zeeland_passages['TelpuntNaam'].value_counts()"
   ]
  },
  {
   "cell_type": "code",
   "execution_count": 37,
   "metadata": {},
   "outputs": [
    {
     "data": {
      "text/plain": [
       "Kolknaam\n",
       "Grote kolk Sluis Vlissingen     80\n",
       "Kleine kolk Sluis Vlissingen    62\n",
       "Grote kolk Sluis Veere          53\n",
       "Kleine kolk Sluis Veere         33\n",
       "Name: count, dtype: int64"
      ]
     },
     "execution_count": 37,
     "metadata": {},
     "output_type": "execute_result"
    }
   ],
   "source": [
    "df_zeeland_passages['Kolknaam'].value_counts()"
   ]
  },
  {
   "cell_type": "code",
   "execution_count": 38,
   "metadata": {},
   "outputs": [
    {
     "data": {
      "text/plain": [
       "bridge\n",
       "Keersluisbrug Vlissingen    2812\n",
       "Sloebrug Vlissingen         2510\n",
       "Name: count, dtype: int64"
      ]
     },
     "execution_count": 38,
     "metadata": {},
     "output_type": "execute_result"
    }
   ],
   "source": [
    "df_file_path = (csv_files[0])\n",
    "df_bridge_opening = pd.read_csv(df_file_path, delimiter=';')\n",
    "df_bridge_opening['bridge'].value_counts()\n"
   ]
  },
  {
   "cell_type": "code",
   "execution_count": 39,
   "metadata": {},
   "outputs": [],
   "source": [
    "df_passage = df_zeeland_passages.loc[df_zeeland_passages['TelpuntNaam'] == 'Keersluisbrug Vlissingen'].reset_index(drop=True)\n",
    "#df_passage.to_csv('df_passage.csv', index=False)\n",
    "#df_passage\n",
    "\n"
   ]
  },
  {
   "cell_type": "code",
   "execution_count": 40,
   "metadata": {},
   "outputs": [],
   "source": [
    "df_sloebrug = df_bridge_opening.loc[df_bridge_opening['bridge'] == 'Sloebrug Vlissingen'].reset_index(drop=True)\n",
    "df_KeersluisbrugVlissingen = df_bridge_opening.loc[df_bridge_opening['bridge'] == 'Keersluisbrug Vlissingen'].reset_index(drop=True)\n",
    "#df_KeersluisbrugVlissingen \n",
    "#df_sloebrug"
   ]
  },
  {
   "cell_type": "code",
   "execution_count": 41,
   "metadata": {},
   "outputs": [
    {
     "data": {
      "text/plain": [
       "BeginJaarEvenement                   0\n",
       "BeginMaandEvenement                  0\n",
       "TelpuntNaam                          0\n",
       "Kolknaam                            67\n",
       "ScheepstypeCategorieOmschrijving     0\n",
       "SeinvoeringOmschrijving             12\n",
       "AantalSchepen                        0\n",
       "AantalSchepenGeladen                41\n",
       "AantalSchepenLeeg                    8\n",
       "AantalContainers                    23\n",
       "AantalTEU                           23\n",
       "LaadvermogenTotaal                   0\n",
       "LaadvermogenTotaalGeladen           41\n",
       "LaadvermogenTotaalLeeg               8\n",
       "VervoerdGewichtTon                  34\n",
       "dtype: int64"
      ]
     },
     "execution_count": 41,
     "metadata": {},
     "output_type": "execute_result"
    }
   ],
   "source": [
    "df_passage.isnull().sum()"
   ]
  },
  {
   "cell_type": "code",
   "execution_count": 42,
   "metadata": {},
   "outputs": [
    {
     "name": "stdout",
     "output_type": "stream",
     "text": [
      "<class 'pandas.core.frame.DataFrame'>\n",
      "RangeIndex: 67 entries, 0 to 66\n",
      "Data columns (total 15 columns):\n",
      " #   Column                            Non-Null Count  Dtype  \n",
      "---  ------                            --------------  -----  \n",
      " 0   BeginJaarEvenement                67 non-null     int64  \n",
      " 1   BeginMaandEvenement               67 non-null     int64  \n",
      " 2   TelpuntNaam                       67 non-null     object \n",
      " 3   Kolknaam                          0 non-null      object \n",
      " 4   ScheepstypeCategorieOmschrijving  67 non-null     object \n",
      " 5   SeinvoeringOmschrijving           55 non-null     object \n",
      " 6   AantalSchepen                     67 non-null     int64  \n",
      " 7   AantalSchepenGeladen              26 non-null     float64\n",
      " 8   AantalSchepenLeeg                 59 non-null     float64\n",
      " 9   AantalContainers                  44 non-null     float64\n",
      " 10  AantalTEU                         44 non-null     float64\n",
      " 11  LaadvermogenTotaal                67 non-null     int64  \n",
      " 12  LaadvermogenTotaalGeladen         26 non-null     float64\n",
      " 13  LaadvermogenTotaalLeeg            59 non-null     float64\n",
      " 14  VervoerdGewichtTon                33 non-null     float64\n",
      "dtypes: float64(7), int64(4), object(4)\n",
      "memory usage: 8.0+ KB\n"
     ]
    }
   ],
   "source": [
    "df_passage.info()"
   ]
  }
 ],
 "metadata": {
  "kernelspec": {
   "display_name": "base",
   "language": "python",
   "name": "python3"
  },
  "language_info": {
   "codemirror_mode": {
    "name": "ipython",
    "version": 3
   },
   "file_extension": ".py",
   "mimetype": "text/x-python",
   "name": "python",
   "nbconvert_exporter": "python",
   "pygments_lexer": "ipython3",
   "version": "3.11.5"
  }
 },
 "nbformat": 4,
 "nbformat_minor": 2
}

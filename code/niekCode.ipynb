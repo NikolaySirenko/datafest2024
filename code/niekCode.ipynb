{
 "cells": [
  {
   "cell_type": "code",
   "execution_count": 6,
   "metadata": {},
   "outputs": [],
   "source": [
    "import pandas as pd\n",
    "import os\n"
   ]
  },
  {
   "cell_type": "code",
   "execution_count": 7,
   "metadata": {},
   "outputs": [],
   "source": [
    "# Adjust pandas display options to ensure all columns are shown\n",
    "pd.set_option('display.max_columns', None)\n",
    "pd.set_option('display.max_colwidth', None)\n",
    "pd.set_option('display.width', None)\n",
    "pd.set_option('display.max_rows', None)"
   ]
  },
  {
   "cell_type": "code",
   "execution_count": 8,
   "metadata": {},
   "outputs": [
    {
     "data": {
      "text/plain": [
       "['../jrcz_datafest_2024_datasets\\\\data-bridge-openings-2023\\\\bridge-openings-2023-Processed-KSB-SB.csv',\n",
       " '../jrcz_datafest_2024_datasets\\\\data-bridge-openings-2023\\\\zeeland_passages_2023.csv',\n",
       " '../jrcz_datafest_2024_datasets\\\\data-weather\\\\by-day\\\\weer-daggegevens-2023-vlis-dates-parsed.csv',\n",
       " '../jrcz_datafest_2024_datasets\\\\data-weather\\\\by-day\\\\weer-daggegevens-2023-vlis.csv',\n",
       " '../jrcz_datafest_2024_datasets\\\\data-weather\\\\by-day\\\\weer-uurgegevens-2023-vlis-datetimes-parsed.csv',\n",
       " '../jrcz_datafest_2024_datasets\\\\data-weather\\\\by-hour\\\\weer-uurgegevens-processed-2023.csv',\n",
       " '../jrcz_datafest_2024_datasets\\\\holidays\\\\national_holidays_NLBEDEFR_2023.csv',\n",
       " '../jrcz_datafest_2024_datasets\\\\holidays\\\\school_holidays_NLBEDEFR_2023.csv',\n",
       " '../jrcz_datafest_2024_datasets\\\\intensity-speed-export-a58-east\\\\intensity-speed-export-2022.csv',\n",
       " '../jrcz_datafest_2024_datasets\\\\intensity-speed-export-a58-east\\\\intensity-speed-export-2023.csv',\n",
       " '../jrcz_datafest_2024_datasets\\\\intensity-speed-export-a58-west\\\\intensity-speed-export-2022.csv',\n",
       " '../jrcz_datafest_2024_datasets\\\\intensity-speed-export-a58-west\\\\intensity-speed-export-2023.csv',\n",
       " '../jrcz_datafest_2024_datasets\\\\vri-data\\\\vri_data_2023.csv',\n",
       " '../jrcz_datafest_2024_datasets\\\\vri-data\\\\vri_names.csv']"
      ]
     },
     "execution_count": 8,
     "metadata": {},
     "output_type": "execute_result"
    }
   ],
   "source": [
    "csv_files = []\n",
    "# Walk the directory tree\n",
    "for root, dirs, files in os.walk('../jrcz_datafest_2024_datasets'):\n",
    "    for file in files:\n",
    "        # Check if the file ends with '.csv'\n",
    "        if file.endswith('.csv'):\n",
    "            # Get the full path to the file\n",
    "            full_path = os.path.join(root, file)\n",
    "            csv_files.append(full_path)\n",
    "\n",
    "csv_files\n"
   ]
  },
  {
   "cell_type": "code",
   "execution_count": 9,
   "metadata": {},
   "outputs": [
    {
     "name": "stdout",
     "output_type": "stream",
     "text": [
      "<class 'pandas.core.frame.DataFrame'>\n",
      "RangeIndex: 5322 entries, 0 to 5321\n",
      "Data columns (total 5 columns):\n",
      " #   Column            Non-Null Count  Dtype \n",
      "---  ------            --------------  ----- \n",
      " 0   Unnamed: 0        5322 non-null   int64 \n",
      " 1   opening_duration  5322 non-null   object\n",
      " 2   bridge            5322 non-null   object\n",
      " 3   start_datetime    5322 non-null   object\n",
      " 4   end_datetime      5322 non-null   object\n",
      "dtypes: int64(1), object(4)\n",
      "memory usage: 208.0+ KB\n"
     ]
    }
   ],
   "source": [
    "df_file_path = (csv_files[0])\n",
    "df = pd.read_csv(df_file_path, delimiter=';')\n",
    "df.info()"
   ]
  },
  {
   "cell_type": "code",
   "execution_count": null,
   "metadata": {},
   "outputs": [],
   "source": []
  }
 ],
 "metadata": {
  "kernelspec": {
   "display_name": "base",
   "language": "python",
   "name": "python3"
  },
  "language_info": {
   "codemirror_mode": {
    "name": "ipython",
    "version": 3
   },
   "file_extension": ".py",
   "mimetype": "text/x-python",
   "name": "python",
   "nbconvert_exporter": "python",
   "pygments_lexer": "ipython3",
   "version": "3.9.13"
  }
 },
 "nbformat": 4,
 "nbformat_minor": 2
}

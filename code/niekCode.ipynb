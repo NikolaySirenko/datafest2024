{
 "cells": [
  {
   "cell_type": "code",
   "execution_count": 1,
   "metadata": {},
   "outputs": [],
   "source": [
    "import pandas as pd\n",
    "import os\n"
   ]
  },
  {
   "cell_type": "code",
   "execution_count": 2,
   "metadata": {},
   "outputs": [],
   "source": [
    "# Adjust pandas display options to ensure all columns are shown\n",
    "pd.set_option('display.max_columns', None)\n",
    "pd.set_option('display.max_colwidth', None)\n",
    "pd.set_option('display.width', None)\n",
    "pd.set_option('display.max_rows', None)"
   ]
  },
  {
   "cell_type": "code",
   "execution_count": 3,
   "metadata": {},
   "outputs": [
    {
     "data": {
      "text/plain": [
       "['../jrcz_datafest_2024_datasets\\\\data-bridge-openings-2023\\\\bridge-openings-2023-Processed-KSB-SB.csv',\n",
       " '../jrcz_datafest_2024_datasets\\\\data-bridge-openings-2023\\\\zeeland_passages_2023.csv',\n",
       " '../jrcz_datafest_2024_datasets\\\\data-weather\\\\by-day\\\\weer-daggegevens-2023-vlis-dates-parsed.csv',\n",
       " '../jrcz_datafest_2024_datasets\\\\data-weather\\\\by-day\\\\weer-daggegevens-2023-vlis.csv',\n",
       " '../jrcz_datafest_2024_datasets\\\\data-weather\\\\by-day\\\\weer-uurgegevens-2023-vlis-datetimes-parsed.csv',\n",
       " '../jrcz_datafest_2024_datasets\\\\data-weather\\\\by-hour\\\\weer-uurgegevens-processed-2023.csv',\n",
       " '../jrcz_datafest_2024_datasets\\\\holidays\\\\national_holidays_NLBEDEFR_2023.csv',\n",
       " '../jrcz_datafest_2024_datasets\\\\holidays\\\\school_holidays_NLBEDEFR_2023.csv',\n",
       " '../jrcz_datafest_2024_datasets\\\\intensity-speed-export-a58-east\\\\intensity-speed-export-2022.csv',\n",
       " '../jrcz_datafest_2024_datasets\\\\intensity-speed-export-a58-east\\\\intensity-speed-export-2023.csv',\n",
       " '../jrcz_datafest_2024_datasets\\\\intensity-speed-export-a58-west\\\\intensity-speed-export-2022.csv',\n",
       " '../jrcz_datafest_2024_datasets\\\\intensity-speed-export-a58-west\\\\intensity-speed-export-2023.csv',\n",
       " '../jrcz_datafest_2024_datasets\\\\vri-data\\\\vri_data_2023.csv',\n",
       " '../jrcz_datafest_2024_datasets\\\\vri-data\\\\vri_names.csv']"
      ]
     },
     "execution_count": 3,
     "metadata": {},
     "output_type": "execute_result"
    }
   ],
   "source": [
    "csv_files = []\n",
    "# Walk the directory tree\n",
    "for root, dirs, files in os.walk('../jrcz_datafest_2024_datasets'):\n",
    "    for file in files:\n",
    "        # Check if the file ends with '.csv'\n",
    "        if file.endswith('.csv'):\n",
    "            # Get the full path to the file\n",
    "            full_path = os.path.join(root, file)\n",
    "            csv_files.append(full_path)\n",
    "\n",
    "csv_files\n"
   ]
  },
  {
   "cell_type": "code",
   "execution_count": 4,
   "metadata": {},
   "outputs": [
    {
     "name": "stderr",
     "output_type": "stream",
     "text": [
      "C:\\Users\\nieks\\AppData\\Local\\Temp\\ipykernel_31996\\252339799.py:2: DtypeWarning: Columns (16) have mixed types. Specify dtype option on import or set low_memory=False.\n",
      "  df = pd.read_csv(df_file_path, delimiter=',')\n"
     ]
    },
    {
     "name": "stdout",
     "output_type": "stream",
     "text": [
      "<class 'pandas.core.frame.DataFrame'>\n",
      "RangeIndex: 12589488 entries, 0 to 12589487\n",
      "Data columns (total 17 columns):\n",
      " #   Column                             Dtype  \n",
      "---  ------                             -----  \n",
      " 0   id_meetlocatie                     object \n",
      " 1   ndw_index                          object \n",
      " 2   start_meetperiode                  object \n",
      " 3   eind_meetperiode                   object \n",
      " 4   waarnemingen_intensiteit           int64  \n",
      " 5   waarnemingen_snelheid              int64  \n",
      " 6   gebruikte_minuten_intensiteit      int64  \n",
      " 7   gebruikte_minuten_snelheid         int64  \n",
      " 8   data_error_snelheid                int64  \n",
      " 9   data_error_intensiteit             int64  \n",
      " 10  gem_intensiteit                    int64  \n",
      " 11  gem_snelheid                       float64\n",
      " 12  gewogen_gem_snelheid               float64\n",
      " 13  rijstrook_rijbaan                  object \n",
      " 14  voertuigcategorie                  object \n",
      " 15  technical_exclusion                float64\n",
      " 16  traffic_flow_deviation_exclusions  object \n",
      "dtypes: float64(3), int64(7), object(7)\n",
      "memory usage: 1.6+ GB\n"
     ]
    }
   ],
   "source": [
    "df_file_path = (csv_files[11])\n",
    "df = pd.read_csv(df_file_path, delimiter=',')\n",
    "df.info()"
   ]
  },
  {
   "cell_type": "code",
   "execution_count": 5,
   "metadata": {},
   "outputs": [
    {
     "name": "stdout",
     "output_type": "stream",
     "text": [
      "<class 'pandas.core.frame.DataFrame'>\n",
      "RangeIndex: 12589488 entries, 0 to 12589487\n",
      "Data columns (total 10 columns):\n",
      " #   Column                             Dtype         \n",
      "---  ------                             -----         \n",
      " 0   id_meetlocatie                     object        \n",
      " 1   ndw_index                          object        \n",
      " 2   start_meetperiode                  datetime64[ns]\n",
      " 3   eind_meetperiode                   object        \n",
      " 4   waarnemingen_intensiteit           int64         \n",
      " 5   waarnemingen_snelheid              int64         \n",
      " 6   gem_intensiteit                    int64         \n",
      " 7   rijstrook_rijbaan                  object        \n",
      " 8   voertuigcategorie                  object        \n",
      " 9   traffic_flow_deviation_exclusions  object        \n",
      "dtypes: datetime64[ns](1), int64(3), object(6)\n",
      "memory usage: 960.5+ MB\n"
     ]
    }
   ],
   "source": [
    "df=df.drop(columns=['gewogen_gem_snelheid'])\n",
    "df=df.drop(columns=['gem_snelheid'])\n",
    "df=df.drop(columns=['data_error_intensiteit'])\n",
    "df=df.drop(columns=['data_error_snelheid'])\n",
    "df=df.drop(columns=['gebruikte_minuten_intensiteit'])\n",
    "df=df.drop(columns=['gebruikte_minuten_snelheid'])\n",
    "df=df.drop(columns=['technical_exclusion'])\n",
    "df['start_meetperiode'] = pd.to_datetime(df['start_meetperiode'])\n",
    "df.info()\n"
   ]
  },
  {
   "cell_type": "code",
   "execution_count": 20,
   "metadata": {},
   "outputs": [
    {
     "name": "stdout",
     "output_type": "stream",
     "text": [
      "Sum of column 'waarnemingen_intensiteit': 150\n"
     ]
    }
   ],
   "source": [
    "df['date'] = df['start_meetperiode'].dt.date\n",
    "df['minute'] = df['start_meetperiode'].dt.minute\n",
    "df['hour'] = df['start_meetperiode'].dt.hour\n",
    "\n",
    "df[(df['date'] == '2024-01-01') & (df['minute'] <= 1)& (df['hour'] == 17)]\n",
    "df.head(30)\n",
    "\n",
    "filtered_df = df[(df['start_meetperiode'].dt.date == pd.to_datetime('2023-12-01').date()) & (df['minute'] <= 1) & (df['hour'] == 17)]\n",
    "\n",
    "# Display the filtered DataFrame and the first 30 rows of the original DataFrame for verification\n",
    "column_sum=filtered_df['waarnemingen_intensiteit'].sum()\n",
    "print(\"Sum of column 'waarnemingen_intensiteit':\", column_sum)\n"
   ]
  },
  {
   "cell_type": "code",
   "execution_count": null,
   "metadata": {},
   "outputs": [],
   "source": []
  }
 ],
 "metadata": {
  "kernelspec": {
   "display_name": "base",
   "language": "python",
   "name": "python3"
  },
  "language_info": {
   "codemirror_mode": {
    "name": "ipython",
    "version": 3
   },
   "file_extension": ".py",
   "mimetype": "text/x-python",
   "name": "python",
   "nbconvert_exporter": "python",
   "pygments_lexer": "ipython3",
   "version": "3.9.13"
  }
 },
 "nbformat": 4,
 "nbformat_minor": 2
}

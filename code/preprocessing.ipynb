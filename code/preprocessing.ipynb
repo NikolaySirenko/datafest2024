{
 "cells": [
  {
   "cell_type": "code",
   "execution_count": 1,
   "metadata": {},
   "outputs": [],
   "source": [
    "import pandas as pd\n",
    "import os"
   ]
  },
  {
   "cell_type": "code",
   "execution_count": 2,
   "metadata": {},
   "outputs": [],
   "source": [
    "# Adjust pandas display options to ensure all columns are shown\n",
    "pd.set_option('display.max_columns', None)\n",
    "pd.set_option('display.max_colwidth', None)\n",
    "pd.set_option('display.width', None)\n",
    "pd.set_option('display.max_rows', None)"
   ]
  },
  {
   "cell_type": "code",
   "execution_count": 3,
   "metadata": {},
   "outputs": [
    {
     "data": {
      "text/plain": [
       "['../jrcz_datafest_2024_datasets\\\\data-bridge-openings-2023\\\\bridge-openings-2023-Processed-KSB-SB.csv',\n",
       " '../jrcz_datafest_2024_datasets\\\\data-bridge-openings-2023\\\\zeeland_passages_2023.csv',\n",
       " '../jrcz_datafest_2024_datasets\\\\data-weather\\\\by-day\\\\weer-daggegevens-2023-vlis-dates-parsed.csv',\n",
       " '../jrcz_datafest_2024_datasets\\\\data-weather\\\\by-day\\\\weer-daggegevens-2023-vlis.csv',\n",
       " '../jrcz_datafest_2024_datasets\\\\data-weather\\\\by-day\\\\weer-uurgegevens-2023-vlis-datetimes-parsed.csv',\n",
       " '../jrcz_datafest_2024_datasets\\\\data-weather\\\\by-hour\\\\weer-uurgegevens-processed-2023.csv',\n",
       " '../jrcz_datafest_2024_datasets\\\\holidays\\\\national_holidays_NLBEDEFR_2023.csv',\n",
       " '../jrcz_datafest_2024_datasets\\\\holidays\\\\school_holidays_NLBEDEFR_2023.csv',\n",
       " '../jrcz_datafest_2024_datasets\\\\intensity-speed-export-a58-east\\\\intensity-speed-export-2022.csv',\n",
       " '../jrcz_datafest_2024_datasets\\\\intensity-speed-export-a58-east\\\\intensity-speed-export-2023.csv',\n",
       " '../jrcz_datafest_2024_datasets\\\\intensity-speed-export-a58-west\\\\intensity-speed-export-2022.csv',\n",
       " '../jrcz_datafest_2024_datasets\\\\intensity-speed-export-a58-west\\\\intensity-speed-export-2023.csv',\n",
       " '../jrcz_datafest_2024_datasets\\\\vri-data\\\\vri_data_2023.csv',\n",
       " '../jrcz_datafest_2024_datasets\\\\vri-data\\\\vri_names.csv']"
      ]
     },
     "execution_count": 3,
     "metadata": {},
     "output_type": "execute_result"
    }
   ],
   "source": [
    "csv_files = []\n",
    "# Walk the directory tree\n",
    "for root, dirs, files in os.walk('../jrcz_datafest_2024_datasets'):\n",
    "    for file in files:\n",
    "        # Check if the file ends with '.csv'\n",
    "        if file.endswith('.csv'):\n",
    "            # Get the full path to the file\n",
    "            full_path = os.path.join(root, file)\n",
    "            csv_files.append(full_path)\n",
    "csv_files"
   ]
  },
  {
   "cell_type": "code",
   "execution_count": 4,
   "metadata": {},
   "outputs": [
    {
     "data": {
      "text/plain": [
       "['../preprocessed\\\\bridge-openings-2023-Processed-KSB-SB.csv',\n",
       " '../preprocessed\\\\zeeland_passages_2023.csv',\n",
       " '../preprocessed\\\\weer-daggegevens-2023-vlis-dates-parsed.csv',\n",
       " '../preprocessed\\\\weer-daggegevens-2023-vlis.csv',\n",
       " '../preprocessed\\\\weer-uurgegevens-2023-vlis-datetimes-parsed.csv',\n",
       " '../preprocessed\\\\weer-uurgegevens-processed-2023.csv',\n",
       " '../preprocessed\\\\national_holidays_NLBEDEFR_2023.csv',\n",
       " '../preprocessed\\\\school_holidays_NLBEDEFR_2023.csv',\n",
       " '../preprocessed\\\\intensity-speed-export-2022.csv',\n",
       " '../preprocessed\\\\intensity-speed-export-2023.csv',\n",
       " '../preprocessed\\\\intensity-speed-export-2022.csv',\n",
       " '../preprocessed\\\\intensity-speed-export-2023.csv',\n",
       " '../preprocessed\\\\vri_data_2023.csv',\n",
       " '../preprocessed\\\\vri_names.csv']"
      ]
     },
     "execution_count": 4,
     "metadata": {},
     "output_type": "execute_result"
    }
   ],
   "source": [
    "new_csv_files = [os.path.basename(file_path) for file_path in csv_files]\n",
    "new_csv_files = [os.path.join('../preprocessed', filename) for filename in new_csv_files]\n",
    "new_csv_files"
   ]
  },
  {
   "cell_type": "code",
   "execution_count": 5,
   "metadata": {},
   "outputs": [
    {
     "name": "stdout",
     "output_type": "stream",
     "text": [
      "<class 'pandas.core.frame.DataFrame'>\n",
      "RangeIndex: 5322 entries, 0 to 5321\n",
      "Data columns (total 5 columns):\n",
      " #   Column            Non-Null Count  Dtype \n",
      "---  ------            --------------  ----- \n",
      " 0   Unnamed: 0        5322 non-null   int64 \n",
      " 1   opening_duration  5322 non-null   object\n",
      " 2   bridge            5322 non-null   object\n",
      " 3   start_datetime    5322 non-null   object\n",
      " 4   end_datetime      5322 non-null   object\n",
      "dtypes: int64(1), object(4)\n",
      "memory usage: 208.0+ KB\n"
     ]
    }
   ],
   "source": [
    "df_file_path = (csv_files[0])\n",
    "df = pd.read_csv(df_file_path, delimiter=';')\n",
    "df.info()"
   ]
  },
  {
   "cell_type": "code",
   "execution_count": 6,
   "metadata": {},
   "outputs": [
    {
     "name": "stdout",
     "output_type": "stream",
     "text": [
      "<class 'pandas.core.frame.DataFrame'>\n",
      "RangeIndex: 392 entries, 0 to 391\n",
      "Data columns (total 15 columns):\n",
      " #   Column                            Non-Null Count  Dtype  \n",
      "---  ------                            --------------  -----  \n",
      " 0   BeginJaarEvenement                392 non-null    int64  \n",
      " 1   BeginMaandEvenement               392 non-null    int64  \n",
      " 2   TelpuntNaam                       392 non-null    object \n",
      " 3   Kolknaam                          228 non-null    object \n",
      " 4   ScheepstypeCategorieOmschrijving  392 non-null    object \n",
      " 5   SeinvoeringOmschrijving           312 non-null    object \n",
      " 6   AantalSchepen                     392 non-null    int64  \n",
      " 7   AantalSchepenGeladen              139 non-null    float64\n",
      " 8   AantalSchepenLeeg                 350 non-null    float64\n",
      " 9   AantalContainers                  263 non-null    float64\n",
      " 10  AantalTEU                         263 non-null    float64\n",
      " 11  LaadvermogenTotaal                392 non-null    int64  \n",
      " 12  LaadvermogenTotaalGeladen         139 non-null    float64\n",
      " 13  LaadvermogenTotaalLeeg            350 non-null    float64\n",
      " 14  VervoerdGewichtTon                153 non-null    float64\n",
      "dtypes: float64(7), int64(4), object(4)\n",
      "memory usage: 46.1+ KB\n"
     ]
    }
   ],
   "source": [
    "df_file_path = (csv_files[1])\n",
    "df = pd.read_csv(df_file_path, delimiter=';')\n",
    "df.info()"
   ]
  },
  {
   "cell_type": "code",
   "execution_count": 7,
   "metadata": {},
   "outputs": [
    {
     "name": "stdout",
     "output_type": "stream",
     "text": [
      "<class 'pandas.core.frame.DataFrame'>\n",
      "RangeIndex: 392 entries, 0 to 391\n",
      "Data columns (total 15 columns):\n",
      " #   Column                   Non-Null Count  Dtype  \n",
      "---  ------                   --------------  -----  \n",
      " 0   StartYearEvent           392 non-null    int64  \n",
      " 1   StartMonthEvent          392 non-null    int64  \n",
      " 2   Bridge Name              392 non-null    object \n",
      " 3   ChamberName              228 non-null    object \n",
      " 4   ShipCategoryDescription  392 non-null    object \n",
      " 5   SignalingDescription     312 non-null    object \n",
      " 6   NumberShips              392 non-null    int64  \n",
      " 7   NumberShipsLoaded        139 non-null    float64\n",
      " 8   NumberShipsEmpty         350 non-null    float64\n",
      " 9   NumberContainers         263 non-null    float64\n",
      " 10  NumberTEU Loading        263 non-null    float64\n",
      " 11  CapacityTotal Loading    392 non-null    int64  \n",
      " 12  CapacityTotal Loaded     139 non-null    float64\n",
      " 13  CapacityTotal Empty      350 non-null    float64\n",
      " 14  TransportedWeightTons    153 non-null    float64\n",
      "dtypes: float64(7), int64(4), object(4)\n",
      "memory usage: 46.1+ KB\n"
     ]
    }
   ],
   "source": [
    "# Renaming columns\n",
    "column_mapping = {\n",
    "\"BeginJaarEvenement\":\"StartYearEvent\",\n",
    "\"BeginMaandEvenement\":\"StartMonthEvent\",\n",
    "\"TelpuntNaam\":\"Bridge Name\",\n",
    "\"Kolknaam\":\"ChamberName\",\n",
    "\"ScheepstypeCategorieOmschrijving\":\"ShipCategoryDescription\",\n",
    "\"SeinvoeringOmschrijving\":\"SignalingDescription\",\n",
    "\"AantalSchepen\":\"NumberShips\",\n",
    "\"AantalSchepenGeladen\":\"NumberShipsLoaded\",\n",
    "\"AantalSchepenLeeg\":\"NumberShipsEmpty\",\n",
    "\"AantalContainers\":\"NumberContainers\",\n",
    "\"AantalTEU\":\"NumberTEU Loading\",\n",
    "\"LaadvermogenTotaal\":\"CapacityTotal Loading\",\n",
    "\"LaadvermogenTotaalGeladen\":\"CapacityTotal Loaded\",\n",
    "\"LaadvermogenTotaalLeeg\":\"CapacityTotal Empty\",\n",
    "\"VervoerdGewichtTon\":\"TransportedWeightTons\",\n",
    "}\n",
    "df = df.rename(columns=column_mapping)\n",
    "df.info()\n",
    "# Export the DataFrame to a new CSV file\n",
    "df.to_csv(new_csv_files[1], index=False)"
   ]
  },
  {
   "cell_type": "code",
   "execution_count": 8,
   "metadata": {},
   "outputs": [
    {
     "name": "stdout",
     "output_type": "stream",
     "text": [
      "<class 'pandas.core.frame.DataFrame'>\n",
      "RangeIndex: 8760 entries, 0 to 8759\n",
      "Data columns (total 25 columns):\n",
      " #   Column    Non-Null Count  Dtype  \n",
      "---  ------    --------------  -----  \n",
      " 0   STN       8760 non-null   int64  \n",
      " 1   YYYYMMDD  8760 non-null   int64  \n",
      " 2   HH        8760 non-null   int64  \n",
      " 3   DD        8760 non-null   int64  \n",
      " 4   FH        8760 non-null   int64  \n",
      " 5   FF        8760 non-null   int64  \n",
      " 6   FX        8760 non-null   int64  \n",
      " 7   T         8760 non-null   int64  \n",
      " 8   T10N      1460 non-null   float64\n",
      " 9   TD        8760 non-null   int64  \n",
      " 10  SQ        8760 non-null   int64  \n",
      " 11  Q         8760 non-null   int64  \n",
      " 12  DR        8760 non-null   int64  \n",
      " 13  RH        8760 non-null   int64  \n",
      " 14  P         8760 non-null   int64  \n",
      " 15  VV        8760 non-null   int64  \n",
      " 16  N         8760 non-null   int64  \n",
      " 17  U         8760 non-null   int64  \n",
      " 18  WW        3449 non-null   float64\n",
      " 19  IX        8760 non-null   int64  \n",
      " 20  M         8760 non-null   int64  \n",
      " 21  R         8760 non-null   int64  \n",
      " 22  S         8760 non-null   int64  \n",
      " 23  O         8760 non-null   int64  \n",
      " 24  Y         8760 non-null   int64  \n",
      "dtypes: float64(2), int64(23)\n",
      "memory usage: 1.7 MB\n"
     ]
    }
   ],
   "source": [
    "df_file_path = (csv_files[5])\n",
    "df = pd.read_csv(df_file_path, delimiter=',')\n",
    "df.info()"
   ]
  },
  {
   "cell_type": "code",
   "execution_count": 9,
   "metadata": {},
   "outputs": [
    {
     "data": {
      "text/html": [
       "<div>\n",
       "<style scoped>\n",
       "    .dataframe tbody tr th:only-of-type {\n",
       "        vertical-align: middle;\n",
       "    }\n",
       "\n",
       "    .dataframe tbody tr th {\n",
       "        vertical-align: top;\n",
       "    }\n",
       "\n",
       "    .dataframe thead th {\n",
       "        text-align: right;\n",
       "    }\n",
       "</style>\n",
       "<table border=\"1\" class=\"dataframe\">\n",
       "  <thead>\n",
       "    <tr style=\"text-align: right;\">\n",
       "      <th></th>\n",
       "      <th>STN</th>\n",
       "      <th>YYYYMMDD</th>\n",
       "      <th>HH</th>\n",
       "      <th>DD</th>\n",
       "      <th>FH</th>\n",
       "      <th>FF</th>\n",
       "      <th>FX</th>\n",
       "      <th>T</th>\n",
       "      <th>T10N</th>\n",
       "      <th>TD</th>\n",
       "      <th>SQ</th>\n",
       "      <th>Q</th>\n",
       "      <th>DR</th>\n",
       "      <th>RH</th>\n",
       "      <th>P</th>\n",
       "      <th>VV</th>\n",
       "      <th>N</th>\n",
       "      <th>U</th>\n",
       "      <th>WW</th>\n",
       "      <th>IX</th>\n",
       "      <th>M</th>\n",
       "      <th>R</th>\n",
       "      <th>S</th>\n",
       "      <th>O</th>\n",
       "      <th>Y</th>\n",
       "    </tr>\n",
       "  </thead>\n",
       "  <tbody>\n",
       "    <tr>\n",
       "      <th>0</th>\n",
       "      <td>310</td>\n",
       "      <td>20230101</td>\n",
       "      <td>1</td>\n",
       "      <td>200</td>\n",
       "      <td>140</td>\n",
       "      <td>140</td>\n",
       "      <td>180</td>\n",
       "      <td>131</td>\n",
       "      <td>NaN</td>\n",
       "      <td>79</td>\n",
       "      <td>0</td>\n",
       "      <td>0</td>\n",
       "      <td>0</td>\n",
       "      <td>0</td>\n",
       "      <td>10069</td>\n",
       "      <td>75</td>\n",
       "      <td>8</td>\n",
       "      <td>70</td>\n",
       "      <td>NaN</td>\n",
       "      <td>5</td>\n",
       "      <td>0</td>\n",
       "      <td>0</td>\n",
       "      <td>0</td>\n",
       "      <td>0</td>\n",
       "      <td>0</td>\n",
       "    </tr>\n",
       "    <tr>\n",
       "      <th>1</th>\n",
       "      <td>310</td>\n",
       "      <td>20230101</td>\n",
       "      <td>2</td>\n",
       "      <td>200</td>\n",
       "      <td>140</td>\n",
       "      <td>140</td>\n",
       "      <td>180</td>\n",
       "      <td>128</td>\n",
       "      <td>NaN</td>\n",
       "      <td>75</td>\n",
       "      <td>0</td>\n",
       "      <td>0</td>\n",
       "      <td>0</td>\n",
       "      <td>0</td>\n",
       "      <td>10076</td>\n",
       "      <td>75</td>\n",
       "      <td>8</td>\n",
       "      <td>70</td>\n",
       "      <td>NaN</td>\n",
       "      <td>5</td>\n",
       "      <td>0</td>\n",
       "      <td>0</td>\n",
       "      <td>0</td>\n",
       "      <td>0</td>\n",
       "      <td>0</td>\n",
       "    </tr>\n",
       "    <tr>\n",
       "      <th>2</th>\n",
       "      <td>310</td>\n",
       "      <td>20230101</td>\n",
       "      <td>3</td>\n",
       "      <td>210</td>\n",
       "      <td>140</td>\n",
       "      <td>130</td>\n",
       "      <td>170</td>\n",
       "      <td>126</td>\n",
       "      <td>NaN</td>\n",
       "      <td>77</td>\n",
       "      <td>0</td>\n",
       "      <td>0</td>\n",
       "      <td>0</td>\n",
       "      <td>0</td>\n",
       "      <td>10078</td>\n",
       "      <td>74</td>\n",
       "      <td>8</td>\n",
       "      <td>72</td>\n",
       "      <td>NaN</td>\n",
       "      <td>5</td>\n",
       "      <td>0</td>\n",
       "      <td>0</td>\n",
       "      <td>0</td>\n",
       "      <td>0</td>\n",
       "      <td>0</td>\n",
       "    </tr>\n",
       "    <tr>\n",
       "      <th>3</th>\n",
       "      <td>310</td>\n",
       "      <td>20230101</td>\n",
       "      <td>4</td>\n",
       "      <td>210</td>\n",
       "      <td>140</td>\n",
       "      <td>120</td>\n",
       "      <td>200</td>\n",
       "      <td>112</td>\n",
       "      <td>NaN</td>\n",
       "      <td>79</td>\n",
       "      <td>0</td>\n",
       "      <td>0</td>\n",
       "      <td>2</td>\n",
       "      <td>1</td>\n",
       "      <td>10091</td>\n",
       "      <td>75</td>\n",
       "      <td>8</td>\n",
       "      <td>79</td>\n",
       "      <td>23.0</td>\n",
       "      <td>7</td>\n",
       "      <td>0</td>\n",
       "      <td>1</td>\n",
       "      <td>0</td>\n",
       "      <td>0</td>\n",
       "      <td>0</td>\n",
       "    </tr>\n",
       "    <tr>\n",
       "      <th>4</th>\n",
       "      <td>310</td>\n",
       "      <td>20230101</td>\n",
       "      <td>5</td>\n",
       "      <td>210</td>\n",
       "      <td>110</td>\n",
       "      <td>100</td>\n",
       "      <td>150</td>\n",
       "      <td>106</td>\n",
       "      <td>NaN</td>\n",
       "      <td>68</td>\n",
       "      <td>0</td>\n",
       "      <td>0</td>\n",
       "      <td>0</td>\n",
       "      <td>0</td>\n",
       "      <td>10099</td>\n",
       "      <td>75</td>\n",
       "      <td>8</td>\n",
       "      <td>77</td>\n",
       "      <td>NaN</td>\n",
       "      <td>5</td>\n",
       "      <td>0</td>\n",
       "      <td>0</td>\n",
       "      <td>0</td>\n",
       "      <td>0</td>\n",
       "      <td>0</td>\n",
       "    </tr>\n",
       "  </tbody>\n",
       "</table>\n",
       "</div>"
      ],
      "text/plain": [
       "   STN  YYYYMMDD  HH   DD   FH   FF   FX    T  T10N  TD  SQ  Q  DR  RH      P  \\\n",
       "0  310  20230101   1  200  140  140  180  131   NaN  79   0  0   0   0  10069   \n",
       "1  310  20230101   2  200  140  140  180  128   NaN  75   0  0   0   0  10076   \n",
       "2  310  20230101   3  210  140  130  170  126   NaN  77   0  0   0   0  10078   \n",
       "3  310  20230101   4  210  140  120  200  112   NaN  79   0  0   2   1  10091   \n",
       "4  310  20230101   5  210  110  100  150  106   NaN  68   0  0   0   0  10099   \n",
       "\n",
       "   VV  N   U    WW  IX  M  R  S  O  Y  \n",
       "0  75  8  70   NaN   5  0  0  0  0  0  \n",
       "1  75  8  70   NaN   5  0  0  0  0  0  \n",
       "2  74  8  72   NaN   5  0  0  0  0  0  \n",
       "3  75  8  79  23.0   7  0  1  0  0  0  \n",
       "4  75  8  77   NaN   5  0  0  0  0  0  "
      ]
     },
     "execution_count": 9,
     "metadata": {},
     "output_type": "execute_result"
    }
   ],
   "source": [
    "df.head()"
   ]
  },
  {
   "cell_type": "code",
   "execution_count": 10,
   "metadata": {},
   "outputs": [
    {
     "name": "stdout",
     "output_type": "stream",
     "text": [
      "<class 'pandas.core.frame.DataFrame'>\n",
      "RangeIndex: 8760 entries, 0 to 8759\n",
      "Data columns (total 25 columns):\n",
      " #   Column                                                         Non-Null Count  Dtype  \n",
      "---  ------                                                         --------------  -----  \n",
      " 0   Meteostation                                                   8760 non-null   int64  \n",
      " 1   Date                                                           8760 non-null   int64  \n",
      " 2   HH                                                             8760 non-null   int64  \n",
      " 3   Wind direction (degrees)                                       8760 non-null   int64  \n",
      " 4   Hourly average wind (0.1 m/s)                                  8760 non-null   int64  \n",
      " 5   Wind speed in last 10 minutes (0.1 m/s)                        8760 non-null   int64  \n",
      " 6   Highest wind gust in las hour (0.1m/s)                         8760 non-null   int64  \n",
      " 7   Temperature at 1.5m height (0.1 degrees)                       8760 non-null   int64  \n",
      " 8   Minimum temperature at 0.1m height (0.1 degrees)               1460 non-null   float64\n",
      " 9   Dew point temperature at 1.5m height (0.1 degrees)             8760 non-null   int64  \n",
      " 10  Duration of sunshine per hour (0.1 hours) (-1 for <0.05 hour)  8760 non-null   int64  \n",
      " 11  Global radiation per hour (J/cm2)                              8760 non-null   int64  \n",
      " 12  Precipitation duration (0.1 hour)                              8760 non-null   int64  \n",
      " 13  Hourly precipitation amount (0.1 mm)                           8760 non-null   int64  \n",
      " 14  Air pressure (0.1 hPa)                                         8760 non-null   int64  \n",
      " 15  Air Trasparency (non-linear scaling)                           8760 non-null   int64  \n",
      " 16  Cloud cover (0-9)                                              8760 non-null   int64  \n",
      " 17  Relative humidity at 1.5m height (%)                           8760 non-null   int64  \n",
      " 18  Weather code (00-99)                                           3449 non-null   float64\n",
      " 19  Weather code (Manned or auto) (1, 2.3, 4, 5.6, 7)              8760 non-null   int64  \n",
      " 20  Fog (1 or 0)                                                   8760 non-null   int64  \n",
      " 21  Rain (1 or 0)                                                  8760 non-null   int64  \n",
      " 22  Snow (1 or 0)                                                  8760 non-null   int64  \n",
      " 23  Thunder (1 or 0)                                               8760 non-null   int64  \n",
      " 24  Ice formation (1 or 0)                                         8760 non-null   int64  \n",
      "dtypes: float64(2), int64(23)\n",
      "memory usage: 1.7 MB\n"
     ]
    }
   ],
   "source": [
    "# Renaming columns\n",
    "column_mapping = {\n",
    "\"STN\":\"Meteostation\",\n",
    "\"YYYYMMDD\":\"Date\",\n",
    "\"DD\":\"Wind direction (degrees)\",\n",
    "\"FH\":\"Hourly average wind (0.1 m/s)\",\n",
    "\"FF\":\"Wind speed in last 10 minutes (0.1 m/s)\",\n",
    "\"FX\":\"Highest wind gust in las hour (0.1m/s)\",\n",
    "\"T\":\"Temperature at 1.5m height (0.1 degrees) \",\n",
    "\"T10N\":\"Minimum temperature at 0.1m height (0.1 degrees)\",\n",
    "\"TD\":\"Dew point temperature at 1.5m height (0.1 degrees)\",\n",
    "\"SQ\":\"Duration of sunshine per hour (0.1 hours) (-1 for <0.05 hour)\",\n",
    "\"Q\":\"Global radiation per hour (J/cm2)\",\n",
    "\"DR\":\"Precipitation duration (0.1 hour)\",\n",
    "\"RH\":\"Hourly precipitation amount (0.1 mm)\",\n",
    "\"P\":\"Air pressure (0.1 hPa)\",\n",
    "\"VV\":\"Air Trasparency (non-linear scaling)\",\n",
    "\"N\":\"Cloud cover (0-9)\",\n",
    "\"U\":\"Relative humidity at 1.5m height (%)\",\n",
    "\"WW\":\"Weather code (00-99)\",\n",
    "\"IX\":\"Weather code (Manned or auto) (1, 2.3, 4, 5.6, 7)\",\n",
    "\"M\":\"Fog (1 or 0)\",\n",
    "\"R\":\"Rain (1 or 0)\",\n",
    "\"S\":\"Snow (1 or 0)\",\n",
    "\"O\":\"Thunder (1 or 0)\",\n",
    "\"Y\":\"Ice formation (1 or 0)\",\n",
    "}\n",
    "df = df.rename(columns=column_mapping)\n",
    "df.info()\n",
    "# Export the DataFrame to a new CSV file\n",
    "df.to_csv(new_csv_files[5], index=False)"
   ]
  },
  {
   "cell_type": "code",
   "execution_count": 11,
   "metadata": {},
   "outputs": [
    {
     "name": "stdout",
     "output_type": "stream",
     "text": [
      "<class 'pandas.core.frame.DataFrame'>\n",
      "RangeIndex: 97 entries, 0 to 96\n",
      "Data columns (total 3 columns):\n",
      " #   Column       Non-Null Count  Dtype \n",
      "---  ------       --------------  ----- \n",
      " 0   Gebeurtenis  97 non-null     object\n",
      " 1   Datum        97 non-null     object\n",
      " 2   Land         97 non-null     object\n",
      "dtypes: object(3)\n",
      "memory usage: 2.4+ KB\n"
     ]
    }
   ],
   "source": [
    "df_file_path = (csv_files[6])\n",
    "df = pd.read_csv(df_file_path, delimiter=',')\n",
    "df.info()"
   ]
  },
  {
   "cell_type": "code",
   "execution_count": 12,
   "metadata": {},
   "outputs": [
    {
     "name": "stdout",
     "output_type": "stream",
     "text": [
      "<class 'pandas.core.frame.DataFrame'>\n",
      "RangeIndex: 97 entries, 0 to 96\n",
      "Data columns (total 3 columns):\n",
      " #   Column   Non-Null Count  Dtype \n",
      "---  ------   --------------  ----- \n",
      " 0   Event    97 non-null     object\n",
      " 1   Date     97 non-null     object\n",
      " 2   Country  97 non-null     object\n",
      "dtypes: object(3)\n",
      "memory usage: 2.4+ KB\n"
     ]
    }
   ],
   "source": [
    "# Renaming columns\n",
    "column_mapping = {\n",
    "\"Gebeurtenis\":\"Event\",\n",
    "\"Datum\":\"Date\",\n",
    "\"Land\":\"Country\",\n",
    "}\n",
    "df = df.rename(columns=column_mapping)\n",
    "df.info()\n",
    "# Export the DataFrame to a new CSV file\n",
    "df.to_csv(new_csv_files[6], index=False)"
   ]
  },
  {
   "cell_type": "code",
   "execution_count": 13,
   "metadata": {},
   "outputs": [
    {
     "name": "stdout",
     "output_type": "stream",
     "text": [
      "<class 'pandas.core.frame.DataFrame'>\n",
      "RangeIndex: 355 entries, 0 to 354\n",
      "Data columns (total 3 columns):\n",
      " #   Column       Non-Null Count  Dtype \n",
      "---  ------       --------------  ----- \n",
      " 0   Gebeurtenis  355 non-null    object\n",
      " 1   Datum        355 non-null    object\n",
      " 2   Land         355 non-null    object\n",
      "dtypes: object(3)\n",
      "memory usage: 8.4+ KB\n"
     ]
    }
   ],
   "source": [
    "df_file_path = (csv_files[7])\n",
    "df = pd.read_csv(df_file_path, delimiter=',')\n",
    "df.info()"
   ]
  },
  {
   "cell_type": "code",
   "execution_count": 14,
   "metadata": {},
   "outputs": [
    {
     "name": "stdout",
     "output_type": "stream",
     "text": [
      "<class 'pandas.core.frame.DataFrame'>\n",
      "RangeIndex: 355 entries, 0 to 354\n",
      "Data columns (total 3 columns):\n",
      " #   Column   Non-Null Count  Dtype \n",
      "---  ------   --------------  ----- \n",
      " 0   Event    355 non-null    object\n",
      " 1   Date     355 non-null    object\n",
      " 2   Country  355 non-null    object\n",
      "dtypes: object(3)\n",
      "memory usage: 8.4+ KB\n"
     ]
    }
   ],
   "source": [
    "# Renaming columns\n",
    "column_mapping = {\n",
    "\"Gebeurtenis\":\"Event\",\n",
    "\"Datum\":\"Date\",\n",
    "\"Land\":\"Country\",\n",
    "}\n",
    "df = df.rename(columns=column_mapping)\n",
    "df.info()\n",
    "# Export the DataFrame to a new CSV file\n",
    "df.to_csv(new_csv_files[7], index=False)"
   ]
  },
  {
   "cell_type": "code",
   "execution_count": 15,
   "metadata": {},
   "outputs": [
    {
     "name": "stdout",
     "output_type": "stream",
     "text": [
      "<class 'pandas.core.frame.DataFrame'>\n",
      "RangeIndex: 6295764 entries, 0 to 6295763\n",
      "Data columns (total 17 columns):\n",
      " #   Column                             Dtype  \n",
      "---  ------                             -----  \n",
      " 0   id_meetlocatie                     object \n",
      " 1   ndw_index                          object \n",
      " 2   start_meetperiode                  object \n",
      " 3   eind_meetperiode                   object \n",
      " 4   waarnemingen_intensiteit           int64  \n",
      " 5   waarnemingen_snelheid              int64  \n",
      " 6   gebruikte_minuten_intensiteit      int64  \n",
      " 7   gebruikte_minuten_snelheid         int64  \n",
      " 8   data_error_snelheid                int64  \n",
      " 9   data_error_intensiteit             int64  \n",
      " 10  gem_intensiteit                    int64  \n",
      " 11  gem_snelheid                       float64\n",
      " 12  gewogen_gem_snelheid               float64\n",
      " 13  rijstrook_rijbaan                  object \n",
      " 14  voertuigcategorie                  object \n",
      " 15  technical_exclusion                float64\n",
      " 16  traffic_flow_deviation_exclusions  float64\n",
      "dtypes: float64(4), int64(7), object(6)\n",
      "memory usage: 816.6+ MB\n"
     ]
    }
   ],
   "source": [
    "df_file_path = (csv_files[8])\n",
    "df = pd.read_csv(df_file_path, delimiter=',')\n",
    "df.info()"
   ]
  },
  {
   "cell_type": "code",
   "execution_count": 16,
   "metadata": {},
   "outputs": [
    {
     "name": "stdout",
     "output_type": "stream",
     "text": [
      "<class 'pandas.core.frame.DataFrame'>\n",
      "RangeIndex: 6295764 entries, 0 to 6295763\n",
      "Data columns (total 17 columns):\n",
      " #   Column                             Dtype  \n",
      "---  ------                             -----  \n",
      " 0   id_location                        object \n",
      " 1   ndw_index                          object \n",
      " 2   start_measurements                 object \n",
      " 3   eind_measurements                  object \n",
      " 4   objects_intensity                  int64  \n",
      " 5   objects_speed                      int64  \n",
      " 6   minuts_used_intensity              int64  \n",
      " 7   minuts_used_speed                  int64  \n",
      " 8   data_error_speed                   int64  \n",
      " 9   data_error_intensity               int64  \n",
      " 10  average_intensity                  int64  \n",
      " 11  average_speed                      float64\n",
      " 12  weighted_average_speed             float64\n",
      " 13  part_lane                          object \n",
      " 14  vehiclecategory                    object \n",
      " 15  technical_exclusion                float64\n",
      " 16  traffic_flow_deviation_exclusions  float64\n",
      "dtypes: float64(4), int64(7), object(6)\n",
      "memory usage: 816.6+ MB\n"
     ]
    }
   ],
   "source": [
    "# Renaming columns\n",
    "column_mapping = {\n",
    "\"id_meetlocatie\":\"id_location\",\n",
    "\"ndw_index\":\"ndw_index\",\n",
    "\"start_meetperiode\":\"start_measurements\",\n",
    "\"eind_meetperiode\":\"eind_measurements\",\n",
    "\"waarnemingen_intensiteit\":\"objects_intensity\",\n",
    "\"waarnemingen_snelheid\":\"objects_speed\",\n",
    "\"gebruikte_minuten_intensiteit\":\"minuts_used_intensity\",\n",
    "\"gebruikte_minuten_snelheid\":\"minuts_used_speed\",\n",
    "\"data_error_snelheid\":\"data_error_speed\",\n",
    "\"data_error_intensiteit\":\"data_error_intensity\",\n",
    "\"gem_intensiteit\":\"average_intensity\",\n",
    "\"gem_snelheid\":\"average_speed\",\n",
    "\"gewogen_gem_snelheid\":\"weighted_average_speed\",\n",
    "\"rijstrook_rijbaan\":\"part_lane\",\n",
    "\"voertuigcategorie\":\"vehiclecategory\",\n",
    "\"technical_exclusion\":\"technical_exclusion\",\n",
    "\"traffic_flow_deviation_exclusions\":\"traffic_flow_deviation_exclusions\",\n",
    "}\n",
    "df = df.rename(columns=column_mapping)\n",
    "df.info()\n",
    "# Export the DataFrame to a new CSV file\n",
    "df.to_csv(new_csv_files[8], index=False)"
   ]
  },
  {
   "cell_type": "code",
   "execution_count": 17,
   "metadata": {},
   "outputs": [
    {
     "name": "stderr",
     "output_type": "stream",
     "text": [
      "C:\\Users\\lordn\\AppData\\Local\\Temp\\ipykernel_58836\\1286033953.py:2: DtypeWarning: Columns (16) have mixed types. Specify dtype option on import or set low_memory=False.\n",
      "  df = pd.read_csv(df_file_path, delimiter=',')\n"
     ]
    },
    {
     "name": "stdout",
     "output_type": "stream",
     "text": [
      "<class 'pandas.core.frame.DataFrame'>\n",
      "RangeIndex: 6294708 entries, 0 to 6294707\n",
      "Data columns (total 17 columns):\n",
      " #   Column                             Dtype  \n",
      "---  ------                             -----  \n",
      " 0   id_meetlocatie                     object \n",
      " 1   ndw_index                          object \n",
      " 2   start_meetperiode                  object \n",
      " 3   eind_meetperiode                   object \n",
      " 4   waarnemingen_intensiteit           int64  \n",
      " 5   waarnemingen_snelheid              int64  \n",
      " 6   gebruikte_minuten_intensiteit      int64  \n",
      " 7   gebruikte_minuten_snelheid         int64  \n",
      " 8   data_error_snelheid                int64  \n",
      " 9   data_error_intensiteit             int64  \n",
      " 10  gem_intensiteit                    int64  \n",
      " 11  gem_snelheid                       float64\n",
      " 12  gewogen_gem_snelheid               float64\n",
      " 13  rijstrook_rijbaan                  object \n",
      " 14  voertuigcategorie                  object \n",
      " 15  technical_exclusion                float64\n",
      " 16  traffic_flow_deviation_exclusions  object \n",
      "dtypes: float64(3), int64(7), object(7)\n",
      "memory usage: 816.4+ MB\n"
     ]
    }
   ],
   "source": [
    "df_file_path = (csv_files[9])\n",
    "df = pd.read_csv(df_file_path, delimiter=',')\n",
    "df.info()"
   ]
  },
  {
   "cell_type": "code",
   "execution_count": 18,
   "metadata": {},
   "outputs": [
    {
     "name": "stdout",
     "output_type": "stream",
     "text": [
      "<class 'pandas.core.frame.DataFrame'>\n",
      "RangeIndex: 6294708 entries, 0 to 6294707\n",
      "Data columns (total 17 columns):\n",
      " #   Column                             Dtype  \n",
      "---  ------                             -----  \n",
      " 0   id_location                        object \n",
      " 1   ndw_index                          object \n",
      " 2   start_measurements                 object \n",
      " 3   eind_measurements                  object \n",
      " 4   objects_intensity                  int64  \n",
      " 5   objects_speed                      int64  \n",
      " 6   minuts_used_intensity              int64  \n",
      " 7   minuts_used_speed                  int64  \n",
      " 8   data_error_speed                   int64  \n",
      " 9   data_error_intensity               int64  \n",
      " 10  average_intensity                  int64  \n",
      " 11  average_speed                      float64\n",
      " 12  weighted_average_speed             float64\n",
      " 13  part_lane                          object \n",
      " 14  vehiclecategory                    object \n",
      " 15  technical_exclusion                float64\n",
      " 16  traffic_flow_deviation_exclusions  object \n",
      "dtypes: float64(3), int64(7), object(7)\n",
      "memory usage: 816.4+ MB\n"
     ]
    }
   ],
   "source": [
    "# Renaming columns\n",
    "column_mapping = {\n",
    "\"id_meetlocatie\":\"id_location\",\n",
    "\"ndw_index\":\"ndw_index\",\n",
    "\"start_meetperiode\":\"start_measurements\",\n",
    "\"eind_meetperiode\":\"eind_measurements\",\n",
    "\"waarnemingen_intensiteit\":\"objects_intensity\",\n",
    "\"waarnemingen_snelheid\":\"objects_speed\",\n",
    "\"gebruikte_minuten_intensiteit\":\"minuts_used_intensity\",\n",
    "\"gebruikte_minuten_snelheid\":\"minuts_used_speed\",\n",
    "\"data_error_snelheid\":\"data_error_speed\",\n",
    "\"data_error_intensiteit\":\"data_error_intensity\",\n",
    "\"gem_intensiteit\":\"average_intensity\",\n",
    "\"gem_snelheid\":\"average_speed\",\n",
    "\"gewogen_gem_snelheid\":\"weighted_average_speed\",\n",
    "\"rijstrook_rijbaan\":\"part_lane\",\n",
    "\"voertuigcategorie\":\"vehiclecategory\",\n",
    "\"technical_exclusion\":\"technical_exclusion\",\n",
    "\"traffic_flow_deviation_exclusions\":\"traffic_flow_deviation_exclusions\",\n",
    "}\n",
    "df = df.rename(columns=column_mapping)\n",
    "df.info()\n",
    "# Export the DataFrame to a new CSV file\n",
    "df.to_csv(new_csv_files[9], index=False)"
   ]
  },
  {
   "cell_type": "code",
   "execution_count": 19,
   "metadata": {},
   "outputs": [
    {
     "name": "stdout",
     "output_type": "stream",
     "text": [
      "<class 'pandas.core.frame.DataFrame'>\n",
      "RangeIndex: 12590136 entries, 0 to 12590135\n",
      "Data columns (total 17 columns):\n",
      " #   Column                             Dtype  \n",
      "---  ------                             -----  \n",
      " 0   id_meetlocatie                     object \n",
      " 1   ndw_index                          object \n",
      " 2   start_meetperiode                  object \n",
      " 3   eind_meetperiode                   object \n",
      " 4   waarnemingen_intensiteit           int64  \n",
      " 5   waarnemingen_snelheid              int64  \n",
      " 6   gebruikte_minuten_intensiteit      int64  \n",
      " 7   gebruikte_minuten_snelheid         int64  \n",
      " 8   data_error_snelheid                int64  \n",
      " 9   data_error_intensiteit             int64  \n",
      " 10  gem_intensiteit                    int64  \n",
      " 11  gem_snelheid                       float64\n",
      " 12  gewogen_gem_snelheid               float64\n",
      " 13  rijstrook_rijbaan                  object \n",
      " 14  voertuigcategorie                  object \n",
      " 15  technical_exclusion                float64\n",
      " 16  traffic_flow_deviation_exclusions  float64\n",
      "dtypes: float64(4), int64(7), object(6)\n",
      "memory usage: 1.6+ GB\n"
     ]
    }
   ],
   "source": [
    "df_file_path = (csv_files[10])\n",
    "df = pd.read_csv(df_file_path, delimiter=',')\n",
    "df.info()"
   ]
  },
  {
   "cell_type": "code",
   "execution_count": 20,
   "metadata": {},
   "outputs": [
    {
     "name": "stdout",
     "output_type": "stream",
     "text": [
      "<class 'pandas.core.frame.DataFrame'>\n",
      "RangeIndex: 12590136 entries, 0 to 12590135\n",
      "Data columns (total 17 columns):\n",
      " #   Column                             Dtype  \n",
      "---  ------                             -----  \n",
      " 0   id_location                        object \n",
      " 1   ndw_index                          object \n",
      " 2   start_measurements                 object \n",
      " 3   eind_measurements                  object \n",
      " 4   objects_intensity                  int64  \n",
      " 5   objects_speed                      int64  \n",
      " 6   minuts_used_intensity              int64  \n",
      " 7   minuts_used_speed                  int64  \n",
      " 8   data_error_speed                   int64  \n",
      " 9   data_error_intensity               int64  \n",
      " 10  average_intensity                  int64  \n",
      " 11  average_speed                      float64\n",
      " 12  weighted_average_speed             float64\n",
      " 13  part_lane                          object \n",
      " 14  vehiclecategory                    object \n",
      " 15  technical_exclusion                float64\n",
      " 16  traffic_flow_deviation_exclusions  float64\n",
      "dtypes: float64(4), int64(7), object(6)\n",
      "memory usage: 1.6+ GB\n"
     ]
    }
   ],
   "source": [
    "# Renaming columns\n",
    "column_mapping = {\n",
    "\"id_meetlocatie\":\"id_location\",\n",
    "\"ndw_index\":\"ndw_index\",\n",
    "\"start_meetperiode\":\"start_measurements\",\n",
    "\"eind_meetperiode\":\"eind_measurements\",\n",
    "\"waarnemingen_intensiteit\":\"objects_intensity\",\n",
    "\"waarnemingen_snelheid\":\"objects_speed\",\n",
    "\"gebruikte_minuten_intensiteit\":\"minuts_used_intensity\",\n",
    "\"gebruikte_minuten_snelheid\":\"minuts_used_speed\",\n",
    "\"data_error_snelheid\":\"data_error_speed\",\n",
    "\"data_error_intensiteit\":\"data_error_intensity\",\n",
    "\"gem_intensiteit\":\"average_intensity\",\n",
    "\"gem_snelheid\":\"average_speed\",\n",
    "\"gewogen_gem_snelheid\":\"weighted_average_speed\",\n",
    "\"rijstrook_rijbaan\":\"part_lane\",\n",
    "\"voertuigcategorie\":\"vehiclecategory\",\n",
    "\"technical_exclusion\":\"technical_exclusion\",\n",
    "\"traffic_flow_deviation_exclusions\":\"traffic_flow_deviation_exclusions\",\n",
    "}\n",
    "df = df.rename(columns=column_mapping)\n",
    "df.info()\n",
    "# Export the DataFrame to a new CSV file\n",
    "df.to_csv(new_csv_files[10], index=False)"
   ]
  },
  {
   "cell_type": "code",
   "execution_count": 21,
   "metadata": {},
   "outputs": [
    {
     "name": "stderr",
     "output_type": "stream",
     "text": [
      "C:\\Users\\lordn\\AppData\\Local\\Temp\\ipykernel_58836\\252339799.py:2: DtypeWarning: Columns (16) have mixed types. Specify dtype option on import or set low_memory=False.\n",
      "  df = pd.read_csv(df_file_path, delimiter=',')\n"
     ]
    },
    {
     "name": "stdout",
     "output_type": "stream",
     "text": [
      "<class 'pandas.core.frame.DataFrame'>\n",
      "RangeIndex: 12589488 entries, 0 to 12589487\n",
      "Data columns (total 17 columns):\n",
      " #   Column                             Dtype  \n",
      "---  ------                             -----  \n",
      " 0   id_meetlocatie                     object \n",
      " 1   ndw_index                          object \n",
      " 2   start_meetperiode                  object \n",
      " 3   eind_meetperiode                   object \n",
      " 4   waarnemingen_intensiteit           int64  \n",
      " 5   waarnemingen_snelheid              int64  \n",
      " 6   gebruikte_minuten_intensiteit      int64  \n",
      " 7   gebruikte_minuten_snelheid         int64  \n",
      " 8   data_error_snelheid                int64  \n",
      " 9   data_error_intensiteit             int64  \n",
      " 10  gem_intensiteit                    int64  \n",
      " 11  gem_snelheid                       float64\n",
      " 12  gewogen_gem_snelheid               float64\n",
      " 13  rijstrook_rijbaan                  object \n",
      " 14  voertuigcategorie                  object \n",
      " 15  technical_exclusion                float64\n",
      " 16  traffic_flow_deviation_exclusions  object \n",
      "dtypes: float64(3), int64(7), object(7)\n",
      "memory usage: 1.6+ GB\n"
     ]
    }
   ],
   "source": [
    "df_file_path = (csv_files[11])\n",
    "df = pd.read_csv(df_file_path, delimiter=',')\n",
    "df.info()"
   ]
  },
  {
   "cell_type": "code",
   "execution_count": 22,
   "metadata": {},
   "outputs": [
    {
     "name": "stdout",
     "output_type": "stream",
     "text": [
      "<class 'pandas.core.frame.DataFrame'>\n",
      "RangeIndex: 12589488 entries, 0 to 12589487\n",
      "Data columns (total 17 columns):\n",
      " #   Column                             Dtype  \n",
      "---  ------                             -----  \n",
      " 0   id_location                        object \n",
      " 1   ndw_index                          object \n",
      " 2   start_measurements                 object \n",
      " 3   eind_measurements                  object \n",
      " 4   objects_intensity                  int64  \n",
      " 5   objects_speed                      int64  \n",
      " 6   minuts_used_intensity              int64  \n",
      " 7   minuts_used_speed                  int64  \n",
      " 8   data_error_speed                   int64  \n",
      " 9   data_error_intensity               int64  \n",
      " 10  average_intensity                  int64  \n",
      " 11  average_speed                      float64\n",
      " 12  weighted_average_speed             float64\n",
      " 13  part_lane                          object \n",
      " 14  vehiclecategory                    object \n",
      " 15  technical_exclusion                float64\n",
      " 16  traffic_flow_deviation_exclusions  object \n",
      "dtypes: float64(3), int64(7), object(7)\n",
      "memory usage: 1.6+ GB\n"
     ]
    }
   ],
   "source": [
    "# Renaming columns\n",
    "column_mapping = {\n",
    "\"id_meetlocatie\":\"id_location\",\n",
    "\"ndw_index\":\"ndw_index\",\n",
    "\"start_meetperiode\":\"start_measurements\",\n",
    "\"eind_meetperiode\":\"eind_measurements\",\n",
    "\"waarnemingen_intensiteit\":\"objects_intensity\",\n",
    "\"waarnemingen_snelheid\":\"objects_speed\",\n",
    "\"gebruikte_minuten_intensiteit\":\"minuts_used_intensity\",\n",
    "\"gebruikte_minuten_snelheid\":\"minuts_used_speed\",\n",
    "\"data_error_snelheid\":\"data_error_speed\",\n",
    "\"data_error_intensiteit\":\"data_error_intensity\",\n",
    "\"gem_intensiteit\":\"average_intensity\",\n",
    "\"gem_snelheid\":\"average_speed\",\n",
    "\"gewogen_gem_snelheid\":\"weighted_average_speed\",\n",
    "\"rijstrook_rijbaan\":\"part_lane\",\n",
    "\"voertuigcategorie\":\"vehiclecategory\",\n",
    "\"technical_exclusion\":\"technical_exclusion\",\n",
    "\"traffic_flow_deviation_exclusions\":\"traffic_flow_deviation_exclusions\",\n",
    "}\n",
    "df = df.rename(columns=column_mapping)\n",
    "df.info()\n",
    "# Export the DataFrame to a new CSV file\n",
    "df.to_csv(new_csv_files[11], index=False)"
   ]
  },
  {
   "cell_type": "code",
   "execution_count": 23,
   "metadata": {},
   "outputs": [
    {
     "data": {
      "text/plain": [
       "24"
      ]
     },
     "execution_count": 23,
     "metadata": {},
     "output_type": "execute_result"
    }
   ],
   "source": [
    "len(df['ndw_index'].unique())"
   ]
  },
  {
   "cell_type": "code",
   "execution_count": 24,
   "metadata": {},
   "outputs": [
    {
     "data": {
      "text/plain": [
       "725664"
      ]
     },
     "execution_count": 24,
     "metadata": {},
     "output_type": "execute_result"
    }
   ],
   "source": [
    "len(df[df['traffic_flow_deviation_exclusions'] == 'tfd'])"
   ]
  },
  {
   "cell_type": "code",
   "execution_count": 25,
   "metadata": {},
   "outputs": [
    {
     "data": {
      "text/plain": [
       "array([nan])"
      ]
     },
     "execution_count": 25,
     "metadata": {},
     "output_type": "execute_result"
    }
   ],
   "source": [
    "df['technical_exclusion'].unique()"
   ]
  },
  {
   "cell_type": "code",
   "execution_count": 26,
   "metadata": {},
   "outputs": [
    {
     "data": {
      "text/plain": [
       "ndw_index\n",
       "F1C     524562\n",
       "F2C     524562\n",
       "F41C    524562\n",
       "F40C    524562\n",
       "F39C    524562\n",
       "F38C    524562\n",
       "F37C    524562\n",
       "F30C    524562\n",
       "F29C    524562\n",
       "F28C    524562\n",
       "F27C    524562\n",
       "F26C    524562\n",
       "F25C    524562\n",
       "F18C    524562\n",
       "F17C    524562\n",
       "F16C    524562\n",
       "F15C    524562\n",
       "F14C    524562\n",
       "F13C    524562\n",
       "F6C     524562\n",
       "F5C     524562\n",
       "F4C     524562\n",
       "F3C     524562\n",
       "F42C    524562\n",
       "Name: count, dtype: int64"
      ]
     },
     "execution_count": 26,
     "metadata": {},
     "output_type": "execute_result"
    }
   ],
   "source": [
    "df['ndw_index'].value_counts()"
   ]
  },
  {
   "cell_type": "code",
   "execution_count": 28,
   "metadata": {},
   "outputs": [
    {
     "data": {
      "text/html": [
       "<div>\n",
       "<style scoped>\n",
       "    .dataframe tbody tr th:only-of-type {\n",
       "        vertical-align: middle;\n",
       "    }\n",
       "\n",
       "    .dataframe tbody tr th {\n",
       "        vertical-align: top;\n",
       "    }\n",
       "\n",
       "    .dataframe thead th {\n",
       "        text-align: right;\n",
       "    }\n",
       "</style>\n",
       "<table border=\"1\" class=\"dataframe\">\n",
       "  <thead>\n",
       "    <tr style=\"text-align: right;\">\n",
       "      <th></th>\n",
       "      <th>id_location</th>\n",
       "      <th>ndw_index</th>\n",
       "      <th>start_measurements</th>\n",
       "      <th>eind_measurements</th>\n",
       "      <th>objects_intensity</th>\n",
       "      <th>objects_speed</th>\n",
       "      <th>minuts_used_intensity</th>\n",
       "      <th>minuts_used_speed</th>\n",
       "      <th>data_error_speed</th>\n",
       "      <th>data_error_intensity</th>\n",
       "      <th>average_intensity</th>\n",
       "      <th>average_speed</th>\n",
       "      <th>weighted_average_speed</th>\n",
       "      <th>part_lane</th>\n",
       "      <th>vehiclecategory</th>\n",
       "      <th>technical_exclusion</th>\n",
       "      <th>traffic_flow_deviation_exclusions</th>\n",
       "    </tr>\n",
       "  </thead>\n",
       "  <tbody>\n",
       "    <tr>\n",
       "      <th>0</th>\n",
       "      <td>GEO0C_Z_RWSTI356588</td>\n",
       "      <td>F1C</td>\n",
       "      <td>2023-01-01 00:00:00</td>\n",
       "      <td>2023-01-01 00:01:00</td>\n",
       "      <td>0</td>\n",
       "      <td>0</td>\n",
       "      <td>1</td>\n",
       "      <td>1</td>\n",
       "      <td>0</td>\n",
       "      <td>0</td>\n",
       "      <td>0</td>\n",
       "      <td>0.0</td>\n",
       "      <td>0.0</td>\n",
       "      <td>lane1</td>\n",
       "      <td>greaterThan 1.85 and lessThanOrEqualTo 2.40</td>\n",
       "      <td>NaN</td>\n",
       "      <td>NaN</td>\n",
       "    </tr>\n",
       "    <tr>\n",
       "      <th>1</th>\n",
       "      <td>GEO0C_Z_RWSTI356588</td>\n",
       "      <td>F2C</td>\n",
       "      <td>2023-01-01 00:00:00</td>\n",
       "      <td>2023-01-01 00:01:00</td>\n",
       "      <td>0</td>\n",
       "      <td>0</td>\n",
       "      <td>1</td>\n",
       "      <td>1</td>\n",
       "      <td>0</td>\n",
       "      <td>0</td>\n",
       "      <td>0</td>\n",
       "      <td>0.0</td>\n",
       "      <td>0.0</td>\n",
       "      <td>lane1</td>\n",
       "      <td>greaterThan 2.40 and lessThanOrEqualTo 5.60</td>\n",
       "      <td>NaN</td>\n",
       "      <td>NaN</td>\n",
       "    </tr>\n",
       "    <tr>\n",
       "      <th>2</th>\n",
       "      <td>GEO0C_Z_RWSTI356588</td>\n",
       "      <td>F3C</td>\n",
       "      <td>2023-01-01 00:00:00</td>\n",
       "      <td>2023-01-01 00:01:00</td>\n",
       "      <td>0</td>\n",
       "      <td>0</td>\n",
       "      <td>1</td>\n",
       "      <td>1</td>\n",
       "      <td>0</td>\n",
       "      <td>0</td>\n",
       "      <td>0</td>\n",
       "      <td>0.0</td>\n",
       "      <td>0.0</td>\n",
       "      <td>lane1</td>\n",
       "      <td>greaterThan 5.60 and lessThanOrEqualTo 11.50</td>\n",
       "      <td>NaN</td>\n",
       "      <td>NaN</td>\n",
       "    </tr>\n",
       "    <tr>\n",
       "      <th>3</th>\n",
       "      <td>GEO0C_Z_RWSTI356588</td>\n",
       "      <td>F4C</td>\n",
       "      <td>2023-01-01 00:00:00</td>\n",
       "      <td>2023-01-01 00:01:00</td>\n",
       "      <td>0</td>\n",
       "      <td>0</td>\n",
       "      <td>1</td>\n",
       "      <td>1</td>\n",
       "      <td>0</td>\n",
       "      <td>0</td>\n",
       "      <td>0</td>\n",
       "      <td>0.0</td>\n",
       "      <td>0.0</td>\n",
       "      <td>lane1</td>\n",
       "      <td>greaterThan 11.50 and lessThanOrEqualTo 12.20</td>\n",
       "      <td>NaN</td>\n",
       "      <td>NaN</td>\n",
       "    </tr>\n",
       "    <tr>\n",
       "      <th>4</th>\n",
       "      <td>GEO0C_Z_RWSTI356588</td>\n",
       "      <td>F5C</td>\n",
       "      <td>2023-01-01 00:00:00</td>\n",
       "      <td>2023-01-01 00:01:00</td>\n",
       "      <td>0</td>\n",
       "      <td>0</td>\n",
       "      <td>1</td>\n",
       "      <td>1</td>\n",
       "      <td>0</td>\n",
       "      <td>0</td>\n",
       "      <td>0</td>\n",
       "      <td>0.0</td>\n",
       "      <td>0.0</td>\n",
       "      <td>lane1</td>\n",
       "      <td>greaterThan 12.20</td>\n",
       "      <td>NaN</td>\n",
       "      <td>NaN</td>\n",
       "    </tr>\n",
       "  </tbody>\n",
       "</table>\n",
       "</div>"
      ],
      "text/plain": [
       "           id_location ndw_index   start_measurements    eind_measurements  \\\n",
       "0  GEO0C_Z_RWSTI356588       F1C  2023-01-01 00:00:00  2023-01-01 00:01:00   \n",
       "1  GEO0C_Z_RWSTI356588       F2C  2023-01-01 00:00:00  2023-01-01 00:01:00   \n",
       "2  GEO0C_Z_RWSTI356588       F3C  2023-01-01 00:00:00  2023-01-01 00:01:00   \n",
       "3  GEO0C_Z_RWSTI356588       F4C  2023-01-01 00:00:00  2023-01-01 00:01:00   \n",
       "4  GEO0C_Z_RWSTI356588       F5C  2023-01-01 00:00:00  2023-01-01 00:01:00   \n",
       "\n",
       "   objects_intensity  objects_speed  minuts_used_intensity  minuts_used_speed  \\\n",
       "0                  0              0                      1                  1   \n",
       "1                  0              0                      1                  1   \n",
       "2                  0              0                      1                  1   \n",
       "3                  0              0                      1                  1   \n",
       "4                  0              0                      1                  1   \n",
       "\n",
       "   data_error_speed  data_error_intensity  average_intensity  average_speed  \\\n",
       "0                 0                     0                  0            0.0   \n",
       "1                 0                     0                  0            0.0   \n",
       "2                 0                     0                  0            0.0   \n",
       "3                 0                     0                  0            0.0   \n",
       "4                 0                     0                  0            0.0   \n",
       "\n",
       "   weighted_average_speed part_lane  \\\n",
       "0                     0.0     lane1   \n",
       "1                     0.0     lane1   \n",
       "2                     0.0     lane1   \n",
       "3                     0.0     lane1   \n",
       "4                     0.0     lane1   \n",
       "\n",
       "                                 vehiclecategory  technical_exclusion  \\\n",
       "0    greaterThan 1.85 and lessThanOrEqualTo 2.40                  NaN   \n",
       "1    greaterThan 2.40 and lessThanOrEqualTo 5.60                  NaN   \n",
       "2   greaterThan 5.60 and lessThanOrEqualTo 11.50                  NaN   \n",
       "3  greaterThan 11.50 and lessThanOrEqualTo 12.20                  NaN   \n",
       "4                              greaterThan 12.20                  NaN   \n",
       "\n",
       "  traffic_flow_deviation_exclusions  \n",
       "0                               NaN  \n",
       "1                               NaN  \n",
       "2                               NaN  \n",
       "3                               NaN  \n",
       "4                               NaN  "
      ]
     },
     "execution_count": 28,
     "metadata": {},
     "output_type": "execute_result"
    }
   ],
   "source": [
    "df.head()"
   ]
  },
  {
   "cell_type": "code",
   "execution_count": 29,
   "metadata": {},
   "outputs": [
    {
     "name": "stdout",
     "output_type": "stream",
     "text": [
      "<class 'pandas.core.frame.DataFrame'>\n",
      "RangeIndex: 331279 entries, 0 to 331278\n",
      "Data columns (total 7 columns):\n",
      " #   Column             Non-Null Count   Dtype \n",
      "---  ------             --------------   ----- \n",
      " 0   VRI_ID             331279 non-null  int64 \n",
      " 1   Date               331279 non-null  object\n",
      " 2   Hour               331279 non-null  object\n",
      " 3   Count              331279 non-null  int64 \n",
      " 4   Direction          331279 non-null  object\n",
      " 5   Direction_English  331279 non-null  object\n",
      " 6   Modality_English   331279 non-null  object\n",
      "dtypes: int64(2), object(5)\n",
      "memory usage: 17.7+ MB\n"
     ]
    }
   ],
   "source": [
    "df_file_path = (csv_files[12])\n",
    "df = pd.read_csv(df_file_path, delimiter=',')\n",
    "df.info()"
   ]
  },
  {
   "cell_type": "code",
   "execution_count": 30,
   "metadata": {},
   "outputs": [
    {
     "name": "stdout",
     "output_type": "stream",
     "text": [
      "<class 'pandas.core.frame.DataFrame'>\n",
      "RangeIndex: 331279 entries, 0 to 331278\n",
      "Data columns (total 7 columns):\n",
      " #   Column             Non-Null Count   Dtype \n",
      "---  ------             --------------   ----- \n",
      " 0   VRI_ID             331279 non-null  int64 \n",
      " 1   Date               331279 non-null  object\n",
      " 2   Hour               331279 non-null  object\n",
      " 3   Count              331279 non-null  int64 \n",
      " 4   Direction          331279 non-null  object\n",
      " 5   Direction_English  331279 non-null  object\n",
      " 6   Modality_English   331279 non-null  object\n",
      "dtypes: int64(2), object(5)\n",
      "memory usage: 17.7+ MB\n"
     ]
    }
   ],
   "source": [
    "df = df.rename(columns=column_mapping)\n",
    "df.info()\n",
    "# Export the DataFrame to a new CSV file\n",
    "df.to_csv(new_csv_files[12], index=False)"
   ]
  },
  {
   "cell_type": "code",
   "execution_count": 31,
   "metadata": {},
   "outputs": [
    {
     "name": "stdout",
     "output_type": "stream",
     "text": [
      "<class 'pandas.core.frame.DataFrame'>\n",
      "RangeIndex: 48 entries, 0 to 47\n",
      "Data columns (total 9 columns):\n",
      " #   Column             Non-Null Count  Dtype \n",
      "---  ------             --------------  ----- \n",
      " 0   Sensor_ID          48 non-null     int64 \n",
      " 1   Sensor_no          48 non-null     int64 \n",
      " 2   Signalgroup        48 non-null     int64 \n",
      " 3   Modality           48 non-null     object\n",
      " 4   Modality_English   48 non-null     object\n",
      " 5   Modality_encoded   48 non-null     object\n",
      " 6   Direction          48 non-null     object\n",
      " 7   Direction_English  48 non-null     object\n",
      " 8   Direction_encoded  48 non-null     object\n",
      "dtypes: int64(3), object(6)\n",
      "memory usage: 3.5+ KB\n"
     ]
    }
   ],
   "source": [
    "df_file_path = (csv_files[13])\n",
    "df = pd.read_csv(df_file_path, delimiter=',')\n"
   ]
  },
  {
   "cell_type": "code",
   "execution_count": 32,
   "metadata": {},
   "outputs": [
    {
     "name": "stdout",
     "output_type": "stream",
     "text": [
      "<class 'pandas.core.frame.DataFrame'>\n",
      "RangeIndex: 48 entries, 0 to 47\n",
      "Data columns (total 9 columns):\n",
      " #   Column             Non-Null Count  Dtype \n",
      "---  ------             --------------  ----- \n",
      " 0   Sensor_ID          48 non-null     int64 \n",
      " 1   Sensor_no          48 non-null     int64 \n",
      " 2   Signalgroup        48 non-null     int64 \n",
      " 3   Modality           48 non-null     object\n",
      " 4   Modality_English   48 non-null     object\n",
      " 5   Modality_encoded   48 non-null     object\n",
      " 6   Direction          48 non-null     object\n",
      " 7   Direction_English  48 non-null     object\n",
      " 8   Direction_encoded  48 non-null     object\n",
      "dtypes: int64(3), object(6)\n",
      "memory usage: 3.5+ KB\n"
     ]
    }
   ],
   "source": [
    "df = df.rename(columns=column_mapping)\n",
    "df.info()\n",
    "# Export the DataFrame to a new CSV file\n",
    "df.to_csv(new_csv_files[13], index=False)"
   ]
  }
 ],
 "metadata": {
  "kernelspec": {
   "display_name": "Python 3",
   "language": "python",
   "name": "python3"
  },
  "language_info": {
   "codemirror_mode": {
    "name": "ipython",
    "version": 3
   },
   "file_extension": ".py",
   "mimetype": "text/x-python",
   "name": "python",
   "nbconvert_exporter": "python",
   "pygments_lexer": "ipython3",
   "version": "3.12.3"
  }
 },
 "nbformat": 4,
 "nbformat_minor": 2
}

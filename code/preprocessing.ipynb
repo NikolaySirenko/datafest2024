{
 "cells": [
  {
   "cell_type": "code",
   "execution_count": 1,
   "metadata": {},
   "outputs": [],
   "source": [
    "import pandas as pd\n",
    "import os"
   ]
  },
  {
   "cell_type": "code",
   "execution_count": 2,
   "metadata": {},
   "outputs": [],
   "source": [
    "# Adjust pandas display options to ensure all columns are shown\n",
    "pd.set_option('display.max_columns', None)\n",
    "pd.set_option('display.max_colwidth', None)\n",
    "pd.set_option('display.width', None)\n",
    "pd.set_option('display.max_rows', None)"
   ]
  },
  {
   "cell_type": "code",
   "execution_count": 3,
   "metadata": {},
   "outputs": [
    {
     "data": {
      "text/plain": [
       "['../jrcz_datafest_2024_datasets\\\\data-bridge-openings-2023\\\\bridge-openings-2023-Processed-KSB-SB.csv',\n",
       " '../jrcz_datafest_2024_datasets\\\\data-bridge-openings-2023\\\\zeeland_passages_2023.csv',\n",
       " '../jrcz_datafest_2024_datasets\\\\data-weather\\\\by-day\\\\weer-daggegevens-2023-vlis-dates-parsed.csv',\n",
       " '../jrcz_datafest_2024_datasets\\\\data-weather\\\\by-day\\\\weer-daggegevens-2023-vlis.csv',\n",
       " '../jrcz_datafest_2024_datasets\\\\data-weather\\\\by-day\\\\weer-uurgegevens-2023-vlis-datetimes-parsed.csv',\n",
       " '../jrcz_datafest_2024_datasets\\\\data-weather\\\\by-hour\\\\weer-uurgegevens-processed-2023.csv',\n",
       " '../jrcz_datafest_2024_datasets\\\\holidays\\\\national_holidays_NLBEDEFR_2023.csv',\n",
       " '../jrcz_datafest_2024_datasets\\\\holidays\\\\school_holidays_NLBEDEFR_2023.csv',\n",
       " '../jrcz_datafest_2024_datasets\\\\intensity-speed-export-a58-east\\\\intensity-speed-export-2022.csv',\n",
       " '../jrcz_datafest_2024_datasets\\\\intensity-speed-export-a58-east\\\\intensity-speed-export-2023.csv',\n",
       " '../jrcz_datafest_2024_datasets\\\\intensity-speed-export-a58-west\\\\intensity-speed-export-2022.csv',\n",
       " '../jrcz_datafest_2024_datasets\\\\intensity-speed-export-a58-west\\\\intensity-speed-export-2023.csv',\n",
       " '../jrcz_datafest_2024_datasets\\\\vri-data\\\\vri_data_2023.csv',\n",
       " '../jrcz_datafest_2024_datasets\\\\vri-data\\\\vri_names.csv']"
      ]
     },
     "execution_count": 3,
     "metadata": {},
     "output_type": "execute_result"
    }
   ],
   "source": [
    "csv_files = []\n",
    "# Walk the directory tree\n",
    "for root, dirs, files in os.walk('../jrcz_datafest_2024_datasets'):\n",
    "    for file in files:\n",
    "        # Check if the file ends with '.csv'\n",
    "        if file.endswith('.csv'):\n",
    "            # Get the full path to the file\n",
    "            full_path = os.path.join(root, file)\n",
    "            csv_files.append(full_path)\n",
    "csv_files"
   ]
  },
  {
   "cell_type": "code",
   "execution_count": 4,
   "metadata": {},
   "outputs": [
    {
     "data": {
      "text/plain": [
       "['../preprocessed\\\\bridge-openings-2023-Processed-KSB-SB.csv',\n",
       " '../preprocessed\\\\zeeland_passages_2023.csv',\n",
       " '../preprocessed\\\\weer-daggegevens-2023-vlis-dates-parsed.csv',\n",
       " '../preprocessed\\\\weer-daggegevens-2023-vlis.csv',\n",
       " '../preprocessed\\\\weer-uurgegevens-2023-vlis-datetimes-parsed.csv',\n",
       " '../preprocessed\\\\weer-uurgegevens-processed-2023.csv',\n",
       " '../preprocessed\\\\national_holidays_NLBEDEFR_2023.csv',\n",
       " '../preprocessed\\\\school_holidays_NLBEDEFR_2023.csv',\n",
       " '../preprocessed\\\\intensity-speed-export-2022.csv',\n",
       " '../preprocessed\\\\intensity-speed-export-2023.csv',\n",
       " '../preprocessed\\\\intensity-speed-export-2022.csv',\n",
       " '../preprocessed\\\\intensity-speed-export-2023.csv',\n",
       " '../preprocessed\\\\vri_data_2023.csv',\n",
       " '../preprocessed\\\\vri_names.csv']"
      ]
     },
     "execution_count": 4,
     "metadata": {},
     "output_type": "execute_result"
    }
   ],
   "source": [
    "new_csv_files = [os.path.basename(file_path) for file_path in csv_files]\n",
    "new_csv_files = [os.path.join('../preprocessed', filename) for filename in new_csv_files]\n",
    "new_csv_files"
   ]
  },
  {
   "cell_type": "code",
   "execution_count": 5,
   "metadata": {},
   "outputs": [
    {
     "name": "stdout",
     "output_type": "stream",
     "text": [
      "<class 'pandas.core.frame.DataFrame'>\n",
      "RangeIndex: 5322 entries, 0 to 5321\n",
      "Data columns (total 5 columns):\n",
      " #   Column            Non-Null Count  Dtype \n",
      "---  ------            --------------  ----- \n",
      " 0   Unnamed: 0        5322 non-null   int64 \n",
      " 1   opening_duration  5322 non-null   object\n",
      " 2   bridge            5322 non-null   object\n",
      " 3   start_datetime    5322 non-null   object\n",
      " 4   end_datetime      5322 non-null   object\n",
      "dtypes: int64(1), object(4)\n",
      "memory usage: 208.0+ KB\n"
     ]
    }
   ],
   "source": [
    "df_file_path = (csv_files[0])\n",
    "df = pd.read_csv(df_file_path, delimiter=';')\n",
    "df.info()"
   ]
  },
  {
   "cell_type": "code",
   "execution_count": 6,
   "metadata": {},
   "outputs": [
    {
     "name": "stdout",
     "output_type": "stream",
     "text": [
      "<class 'pandas.core.frame.DataFrame'>\n",
      "RangeIndex: 392 entries, 0 to 391\n",
      "Data columns (total 15 columns):\n",
      " #   Column                            Non-Null Count  Dtype  \n",
      "---  ------                            --------------  -----  \n",
      " 0   BeginJaarEvenement                392 non-null    int64  \n",
      " 1   BeginMaandEvenement               392 non-null    int64  \n",
      " 2   TelpuntNaam                       392 non-null    object \n",
      " 3   Kolknaam                          228 non-null    object \n",
      " 4   ScheepstypeCategorieOmschrijving  392 non-null    object \n",
      " 5   SeinvoeringOmschrijving           312 non-null    object \n",
      " 6   AantalSchepen                     392 non-null    int64  \n",
      " 7   AantalSchepenGeladen              139 non-null    float64\n",
      " 8   AantalSchepenLeeg                 350 non-null    float64\n",
      " 9   AantalContainers                  263 non-null    float64\n",
      " 10  AantalTEU                         263 non-null    float64\n",
      " 11  LaadvermogenTotaal                392 non-null    int64  \n",
      " 12  LaadvermogenTotaalGeladen         139 non-null    float64\n",
      " 13  LaadvermogenTotaalLeeg            350 non-null    float64\n",
      " 14  VervoerdGewichtTon                153 non-null    float64\n",
      "dtypes: float64(7), int64(4), object(4)\n",
      "memory usage: 46.1+ KB\n"
     ]
    }
   ],
   "source": [
    "df_file_path = (csv_files[1])\n",
    "df = pd.read_csv(df_file_path, delimiter=';')\n",
    "df.info()"
   ]
  },
  {
   "cell_type": "code",
   "execution_count": 7,
   "metadata": {},
   "outputs": [
    {
     "name": "stdout",
     "output_type": "stream",
     "text": [
      "<class 'pandas.core.frame.DataFrame'>\n",
      "RangeIndex: 392 entries, 0 to 391\n",
      "Data columns (total 15 columns):\n",
      " #   Column                   Non-Null Count  Dtype  \n",
      "---  ------                   --------------  -----  \n",
      " 0   StartYearEvent           392 non-null    int64  \n",
      " 1   StartMonthEvent          392 non-null    int64  \n",
      " 2   Bridge Name              392 non-null    object \n",
      " 3   ChamberName              228 non-null    object \n",
      " 4   ShipCategoryDescription  392 non-null    object \n",
      " 5   SignalingDescription     312 non-null    object \n",
      " 6   NumberShips              392 non-null    int64  \n",
      " 7   NumberShipsLoaded        139 non-null    float64\n",
      " 8   NumberShipsEmpty         350 non-null    float64\n",
      " 9   NumberContainers         263 non-null    float64\n",
      " 10  NumberTEU Loading        263 non-null    float64\n",
      " 11  CapacityTotal Loading    392 non-null    int64  \n",
      " 12  CapacityTotal Loaded     139 non-null    float64\n",
      " 13  CapacityTotal Empty      350 non-null    float64\n",
      " 14  TransportedWeightTons    153 non-null    float64\n",
      "dtypes: float64(7), int64(4), object(4)\n",
      "memory usage: 46.1+ KB\n"
     ]
    }
   ],
   "source": [
    "# Renaming columns\n",
    "column_mapping = {\n",
    "\"BeginJaarEvenement\":\"StartYearEvent\",\n",
    "\"BeginMaandEvenement\":\"StartMonthEvent\",\n",
    "\"TelpuntNaam\":\"Bridge Name\",\n",
    "\"Kolknaam\":\"ChamberName\",\n",
    "\"ScheepstypeCategorieOmschrijving\":\"ShipCategoryDescription\",\n",
    "\"SeinvoeringOmschrijving\":\"SignalingDescription\",\n",
    "\"AantalSchepen\":\"NumberShips\",\n",
    "\"AantalSchepenGeladen\":\"NumberShipsLoaded\",\n",
    "\"AantalSchepenLeeg\":\"NumberShipsEmpty\",\n",
    "\"AantalContainers\":\"NumberContainers\",\n",
    "\"AantalTEU\":\"NumberTEU Loading\",\n",
    "\"LaadvermogenTotaal\":\"CapacityTotal Loading\",\n",
    "\"LaadvermogenTotaalGeladen\":\"CapacityTotal Loaded\",\n",
    "\"LaadvermogenTotaalLeeg\":\"CapacityTotal Empty\",\n",
    "\"VervoerdGewichtTon\":\"TransportedWeightTons\",\n",
    "}\n",
    "df = df.rename(columns=column_mapping)\n",
    "df.info()\n",
    "# Export the DataFrame to a new CSV file\n",
    "df.to_csv(new_csv_files[1], index=False)"
   ]
  },
  {
   "cell_type": "code",
   "execution_count": null,
   "metadata": {},
   "outputs": [],
   "source": []
  }
 ],
 "metadata": {
  "kernelspec": {
   "display_name": "Python 3",
   "language": "python",
   "name": "python3"
  },
  "language_info": {
   "codemirror_mode": {
    "name": "ipython",
    "version": 3
   },
   "file_extension": ".py",
   "mimetype": "text/x-python",
   "name": "python",
   "nbconvert_exporter": "python",
   "pygments_lexer": "ipython3",
   "version": "3.12.3"
  }
 },
 "nbformat": 4,
 "nbformat_minor": 2
}

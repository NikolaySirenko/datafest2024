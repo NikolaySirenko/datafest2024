{
 "cells": [
  {
   "cell_type": "code",
   "execution_count": 1,
   "metadata": {},
   "outputs": [],
   "source": [
    "import pandas as pd\n",
    "import os"
   ]
  },
  {
   "cell_type": "code",
   "execution_count": 2,
   "metadata": {},
   "outputs": [],
   "source": [
    "# Adjust pandas display options to ensure all columns are shown\n",
    "pd.set_option('display.max_columns', None)\n",
    "pd.set_option('display.max_colwidth', None)\n",
    "pd.set_option('display.width', None)\n",
    "pd.set_option('display.max_rows', None)"
   ]
  },
  {
   "cell_type": "code",
   "execution_count": 3,
   "metadata": {},
   "outputs": [
    {
     "data": {
      "text/plain": [
       "['../jrcz_datafest_2024_datasets\\\\data-bridge-openings-2023\\\\bridge-openings-2023-Processed-KSB-SB.csv',\n",
       " '../jrcz_datafest_2024_datasets\\\\data-bridge-openings-2023\\\\zeeland_passages_2023.csv',\n",
       " '../jrcz_datafest_2024_datasets\\\\data-weather\\\\by-day\\\\weer-daggegevens-2023-vlis-dates-parsed.csv',\n",
       " '../jrcz_datafest_2024_datasets\\\\data-weather\\\\by-day\\\\weer-daggegevens-2023-vlis.csv',\n",
       " '../jrcz_datafest_2024_datasets\\\\data-weather\\\\by-day\\\\weer-uurgegevens-2023-vlis-datetimes-parsed.csv',\n",
       " '../jrcz_datafest_2024_datasets\\\\data-weather\\\\by-hour\\\\weer-uurgegevens-processed-2023.csv',\n",
       " '../jrcz_datafest_2024_datasets\\\\holidays\\\\national_holidays_NLBEDEFR_2023.csv',\n",
       " '../jrcz_datafest_2024_datasets\\\\holidays\\\\school_holidays_NLBEDEFR_2023.csv',\n",
       " '../jrcz_datafest_2024_datasets\\\\intensity-speed-export-a58-east\\\\intensity-speed-export-2022.csv',\n",
       " '../jrcz_datafest_2024_datasets\\\\intensity-speed-export-a58-east\\\\intensity-speed-export-2023.csv',\n",
       " '../jrcz_datafest_2024_datasets\\\\intensity-speed-export-a58-west\\\\intensity-speed-export-2022.csv',\n",
       " '../jrcz_datafest_2024_datasets\\\\intensity-speed-export-a58-west\\\\intensity-speed-export-2023.csv',\n",
       " '../jrcz_datafest_2024_datasets\\\\vri-data\\\\vri_data_2023.csv',\n",
       " '../jrcz_datafest_2024_datasets\\\\vri-data\\\\vri_names.csv']"
      ]
     },
     "execution_count": 3,
     "metadata": {},
     "output_type": "execute_result"
    }
   ],
   "source": [
    "csv_files = []\n",
    "# Walk the directory tree\n",
    "for root, dirs, files in os.walk('../jrcz_datafest_2024_datasets'):\n",
    "    for file in files:\n",
    "        # Check if the file ends with '.csv'\n",
    "        if file.endswith('.csv'):\n",
    "            # Get the full path to the file\n",
    "            full_path = os.path.join(root, file)\n",
    "            csv_files.append(full_path)\n",
    "csv_files"
   ]
  },
  {
   "cell_type": "code",
   "execution_count": 4,
   "metadata": {},
   "outputs": [
    {
     "data": {
      "text/plain": [
       "['../preprocessed\\\\bridge-openings-2023-Processed-KSB-SB.csv',\n",
       " '../preprocessed\\\\zeeland_passages_2023.csv',\n",
       " '../preprocessed\\\\weer-daggegevens-2023-vlis-dates-parsed.csv',\n",
       " '../preprocessed\\\\weer-daggegevens-2023-vlis.csv',\n",
       " '../preprocessed\\\\weer-uurgegevens-2023-vlis-datetimes-parsed.csv',\n",
       " '../preprocessed\\\\weer-uurgegevens-processed-2023.csv',\n",
       " '../preprocessed\\\\national_holidays_NLBEDEFR_2023.csv',\n",
       " '../preprocessed\\\\school_holidays_NLBEDEFR_2023.csv',\n",
       " '../preprocessed\\\\intensity-speed-export-2022.csv',\n",
       " '../preprocessed\\\\intensity-speed-export-2023.csv',\n",
       " '../preprocessed\\\\intensity-speed-export-2022.csv',\n",
       " '../preprocessed\\\\intensity-speed-export-2023.csv',\n",
       " '../preprocessed\\\\vri_data_2023.csv',\n",
       " '../preprocessed\\\\vri_names.csv']"
      ]
     },
     "execution_count": 4,
     "metadata": {},
     "output_type": "execute_result"
    }
   ],
   "source": [
    "new_csv_files = [os.path.basename(file_path) for file_path in csv_files]\n",
    "new_csv_files = [os.path.join('../preprocessed', filename) for filename in new_csv_files]\n",
    "new_csv_files"
   ]
  },
  {
   "cell_type": "code",
   "execution_count": 5,
   "metadata": {},
   "outputs": [
    {
     "name": "stdout",
     "output_type": "stream",
     "text": [
      "<class 'pandas.core.frame.DataFrame'>\n",
      "RangeIndex: 5322 entries, 0 to 5321\n",
      "Data columns (total 5 columns):\n",
      " #   Column            Non-Null Count  Dtype \n",
      "---  ------            --------------  ----- \n",
      " 0   Unnamed: 0        5322 non-null   int64 \n",
      " 1   opening_duration  5322 non-null   object\n",
      " 2   bridge            5322 non-null   object\n",
      " 3   start_datetime    5322 non-null   object\n",
      " 4   end_datetime      5322 non-null   object\n",
      "dtypes: int64(1), object(4)\n",
      "memory usage: 208.0+ KB\n"
     ]
    }
   ],
   "source": [
    "df_file_path = (csv_files[0])\n",
    "df = pd.read_csv(df_file_path, delimiter=';')\n",
    "df.info()"
   ]
  },
  {
   "cell_type": "code",
   "execution_count": 6,
   "metadata": {},
   "outputs": [
    {
     "name": "stdout",
     "output_type": "stream",
     "text": [
      "<class 'pandas.core.frame.DataFrame'>\n",
      "RangeIndex: 392 entries, 0 to 391\n",
      "Data columns (total 15 columns):\n",
      " #   Column                            Non-Null Count  Dtype  \n",
      "---  ------                            --------------  -----  \n",
      " 0   BeginJaarEvenement                392 non-null    int64  \n",
      " 1   BeginMaandEvenement               392 non-null    int64  \n",
      " 2   TelpuntNaam                       392 non-null    object \n",
      " 3   Kolknaam                          228 non-null    object \n",
      " 4   ScheepstypeCategorieOmschrijving  392 non-null    object \n",
      " 5   SeinvoeringOmschrijving           312 non-null    object \n",
      " 6   AantalSchepen                     392 non-null    int64  \n",
      " 7   AantalSchepenGeladen              139 non-null    float64\n",
      " 8   AantalSchepenLeeg                 350 non-null    float64\n",
      " 9   AantalContainers                  263 non-null    float64\n",
      " 10  AantalTEU                         263 non-null    float64\n",
      " 11  LaadvermogenTotaal                392 non-null    int64  \n",
      " 12  LaadvermogenTotaalGeladen         139 non-null    float64\n",
      " 13  LaadvermogenTotaalLeeg            350 non-null    float64\n",
      " 14  VervoerdGewichtTon                153 non-null    float64\n",
      "dtypes: float64(7), int64(4), object(4)\n",
      "memory usage: 46.1+ KB\n"
     ]
    }
   ],
   "source": [
    "df_file_path = (csv_files[1])\n",
    "df = pd.read_csv(df_file_path, delimiter=';')\n",
    "df.info()"
   ]
  },
  {
   "cell_type": "code",
   "execution_count": 7,
   "metadata": {},
   "outputs": [
    {
     "name": "stdout",
     "output_type": "stream",
     "text": [
      "<class 'pandas.core.frame.DataFrame'>\n",
      "RangeIndex: 392 entries, 0 to 391\n",
      "Data columns (total 15 columns):\n",
      " #   Column                   Non-Null Count  Dtype  \n",
      "---  ------                   --------------  -----  \n",
      " 0   StartYearEvent           392 non-null    int64  \n",
      " 1   StartMonthEvent          392 non-null    int64  \n",
      " 2   Bridge Name              392 non-null    object \n",
      " 3   ChamberName              228 non-null    object \n",
      " 4   ShipCategoryDescription  392 non-null    object \n",
      " 5   SignalingDescription     312 non-null    object \n",
      " 6   NumberShips              392 non-null    int64  \n",
      " 7   NumberShipsLoaded        139 non-null    float64\n",
      " 8   NumberShipsEmpty         350 non-null    float64\n",
      " 9   NumberContainers         263 non-null    float64\n",
      " 10  NumberTEU Loading        263 non-null    float64\n",
      " 11  CapacityTotal Loading    392 non-null    int64  \n",
      " 12  CapacityTotal Loaded     139 non-null    float64\n",
      " 13  CapacityTotal Empty      350 non-null    float64\n",
      " 14  TransportedWeightTons    153 non-null    float64\n",
      "dtypes: float64(7), int64(4), object(4)\n",
      "memory usage: 46.1+ KB\n"
     ]
    }
   ],
   "source": [
    "# Renaming columns\n",
    "column_mapping = {\n",
    "\"BeginJaarEvenement\":\"StartYearEvent\",\n",
    "\"BeginMaandEvenement\":\"StartMonthEvent\",\n",
    "\"TelpuntNaam\":\"Bridge Name\",\n",
    "\"Kolknaam\":\"ChamberName\",\n",
    "\"ScheepstypeCategorieOmschrijving\":\"ShipCategoryDescription\",\n",
    "\"SeinvoeringOmschrijving\":\"SignalingDescription\",\n",
    "\"AantalSchepen\":\"NumberShips\",\n",
    "\"AantalSchepenGeladen\":\"NumberShipsLoaded\",\n",
    "\"AantalSchepenLeeg\":\"NumberShipsEmpty\",\n",
    "\"AantalContainers\":\"NumberContainers\",\n",
    "\"AantalTEU\":\"NumberTEU Loading\",\n",
    "\"LaadvermogenTotaal\":\"CapacityTotal Loading\",\n",
    "\"LaadvermogenTotaalGeladen\":\"CapacityTotal Loaded\",\n",
    "\"LaadvermogenTotaalLeeg\":\"CapacityTotal Empty\",\n",
    "\"VervoerdGewichtTon\":\"TransportedWeightTons\",\n",
    "}\n",
    "df = df.rename(columns=column_mapping)\n",
    "df.info()\n",
    "# Export the DataFrame to a new CSV file\n",
    "df.to_csv(new_csv_files[1], index=False)"
   ]
  },
  {
   "cell_type": "code",
   "execution_count": 18,
   "metadata": {},
   "outputs": [
    {
     "name": "stdout",
     "output_type": "stream",
     "text": [
      "<class 'pandas.core.frame.DataFrame'>\n",
      "RangeIndex: 97 entries, 0 to 96\n",
      "Data columns (total 3 columns):\n",
      " #   Column       Non-Null Count  Dtype \n",
      "---  ------       --------------  ----- \n",
      " 0   Gebeurtenis  97 non-null     object\n",
      " 1   Datum        97 non-null     object\n",
      " 2   Land         97 non-null     object\n",
      "dtypes: object(3)\n",
      "memory usage: 2.4+ KB\n"
     ]
    }
   ],
   "source": [
    "df_file_path = (csv_files[6])\n",
    "df = pd.read_csv(df_file_path, delimiter=',')\n",
    "df.info()"
   ]
  },
  {
   "cell_type": "code",
   "execution_count": 19,
   "metadata": {},
   "outputs": [
    {
     "name": "stdout",
     "output_type": "stream",
     "text": [
      "<class 'pandas.core.frame.DataFrame'>\n",
      "RangeIndex: 97 entries, 0 to 96\n",
      "Data columns (total 3 columns):\n",
      " #   Column   Non-Null Count  Dtype \n",
      "---  ------   --------------  ----- \n",
      " 0   Event    97 non-null     object\n",
      " 1   Date     97 non-null     object\n",
      " 2   Country  97 non-null     object\n",
      "dtypes: object(3)\n",
      "memory usage: 2.4+ KB\n"
     ]
    }
   ],
   "source": [
    "# Renaming columns\n",
    "column_mapping = {\n",
    "\"Gebeurtenis\":\"Event\",\n",
    "\"Datum\":\"Date\",\n",
    "\"Land\":\"Country\",\n",
    "}\n",
    "df = df.rename(columns=column_mapping)\n",
    "df.info()\n",
    "# Export the DataFrame to a new CSV file\n",
    "df.to_csv(new_csv_files[6], index=False)"
   ]
  },
  {
   "cell_type": "code",
   "execution_count": 20,
   "metadata": {},
   "outputs": [
    {
     "name": "stdout",
     "output_type": "stream",
     "text": [
      "<class 'pandas.core.frame.DataFrame'>\n",
      "RangeIndex: 355 entries, 0 to 354\n",
      "Data columns (total 3 columns):\n",
      " #   Column       Non-Null Count  Dtype \n",
      "---  ------       --------------  ----- \n",
      " 0   Gebeurtenis  355 non-null    object\n",
      " 1   Datum        355 non-null    object\n",
      " 2   Land         355 non-null    object\n",
      "dtypes: object(3)\n",
      "memory usage: 8.4+ KB\n"
     ]
    }
   ],
   "source": [
    "df_file_path = (csv_files[7])\n",
    "df = pd.read_csv(df_file_path, delimiter=',')\n",
    "df.info()"
   ]
  },
  {
   "cell_type": "code",
   "execution_count": 21,
   "metadata": {},
   "outputs": [
    {
     "name": "stdout",
     "output_type": "stream",
     "text": [
      "<class 'pandas.core.frame.DataFrame'>\n",
      "RangeIndex: 355 entries, 0 to 354\n",
      "Data columns (total 3 columns):\n",
      " #   Column   Non-Null Count  Dtype \n",
      "---  ------   --------------  ----- \n",
      " 0   Event    355 non-null    object\n",
      " 1   Date     355 non-null    object\n",
      " 2   Country  355 non-null    object\n",
      "dtypes: object(3)\n",
      "memory usage: 8.4+ KB\n"
     ]
    }
   ],
   "source": [
    "# Renaming columns\n",
    "column_mapping = {\n",
    "\"Gebeurtenis\":\"Event\",\n",
    "\"Datum\":\"Date\",\n",
    "\"Land\":\"Country\",\n",
    "}\n",
    "df = df.rename(columns=column_mapping)\n",
    "df.info()\n",
    "# Export the DataFrame to a new CSV file\n",
    "df.to_csv(new_csv_files[7], index=False)"
   ]
  },
  {
   "cell_type": "code",
   "execution_count": 22,
   "metadata": {},
   "outputs": [
    {
     "name": "stdout",
     "output_type": "stream",
     "text": [
      "<class 'pandas.core.frame.DataFrame'>\n",
      "RangeIndex: 6295764 entries, 0 to 6295763\n",
      "Data columns (total 17 columns):\n",
      " #   Column                             Dtype  \n",
      "---  ------                             -----  \n",
      " 0   id_meetlocatie                     object \n",
      " 1   ndw_index                          object \n",
      " 2   start_meetperiode                  object \n",
      " 3   eind_meetperiode                   object \n",
      " 4   waarnemingen_intensiteit           int64  \n",
      " 5   waarnemingen_snelheid              int64  \n",
      " 6   gebruikte_minuten_intensiteit      int64  \n",
      " 7   gebruikte_minuten_snelheid         int64  \n",
      " 8   data_error_snelheid                int64  \n",
      " 9   data_error_intensiteit             int64  \n",
      " 10  gem_intensiteit                    int64  \n",
      " 11  gem_snelheid                       float64\n",
      " 12  gewogen_gem_snelheid               float64\n",
      " 13  rijstrook_rijbaan                  object \n",
      " 14  voertuigcategorie                  object \n",
      " 15  technical_exclusion                float64\n",
      " 16  traffic_flow_deviation_exclusions  float64\n",
      "dtypes: float64(4), int64(7), object(6)\n",
      "memory usage: 816.6+ MB\n"
     ]
    }
   ],
   "source": [
    "df_file_path = (csv_files[8])\n",
    "df = pd.read_csv(df_file_path, delimiter=',')\n",
    "df.info()"
   ]
  },
  {
   "cell_type": "code",
   "execution_count": 23,
   "metadata": {},
   "outputs": [
    {
     "name": "stdout",
     "output_type": "stream",
     "text": [
      "<class 'pandas.core.frame.DataFrame'>\n",
      "RangeIndex: 6295764 entries, 0 to 6295763\n",
      "Data columns (total 17 columns):\n",
      " #   Column                             Dtype  \n",
      "---  ------                             -----  \n",
      " 0   id_location                        object \n",
      " 1   ndw_index                          object \n",
      " 2   start_measurements                 object \n",
      " 3   eind_measurements                  object \n",
      " 4   objects_intensity                  int64  \n",
      " 5   objects_speed                      int64  \n",
      " 6   minuts_used_intensity              int64  \n",
      " 7   minuts_used_speed                  int64  \n",
      " 8   data_error_speed                   int64  \n",
      " 9   data_error_intensity               int64  \n",
      " 10  average_intensity                  int64  \n",
      " 11  average_speed                      float64\n",
      " 12  weighted_average_speed             float64\n",
      " 13  part_lane                          object \n",
      " 14  vehiclecategory                    object \n",
      " 15  technical_exclusion                float64\n",
      " 16  traffic_flow_deviation_exclusions  float64\n",
      "dtypes: float64(4), int64(7), object(6)\n",
      "memory usage: 816.6+ MB\n"
     ]
    }
   ],
   "source": [
    "# Renaming columns\n",
    "column_mapping = {\n",
    "\"id_meetlocatie\":\"id_location\",\n",
    "\"ndw_index\":\"ndw_index\",\n",
    "\"start_meetperiode\":\"start_measurements\",\n",
    "\"eind_meetperiode\":\"eind_measurements\",\n",
    "\"waarnemingen_intensiteit\":\"objects_intensity\",\n",
    "\"waarnemingen_snelheid\":\"objects_speed\",\n",
    "\"gebruikte_minuten_intensiteit\":\"minuts_used_intensity\",\n",
    "\"gebruikte_minuten_snelheid\":\"minuts_used_speed\",\n",
    "\"data_error_snelheid\":\"data_error_speed\",\n",
    "\"data_error_intensiteit\":\"data_error_intensity\",\n",
    "\"gem_intensiteit\":\"average_intensity\",\n",
    "\"gem_snelheid\":\"average_speed\",\n",
    "\"gewogen_gem_snelheid\":\"weighted_average_speed\",\n",
    "\"rijstrook_rijbaan\":\"part_lane\",\n",
    "\"voertuigcategorie\":\"vehiclecategory\",\n",
    "\"technical_exclusion\":\"technical_exclusion\",\n",
    "\"traffic_flow_deviation_exclusions\":\"traffic_flow_deviation_exclusions\",\n",
    "}\n",
    "df = df.rename(columns=column_mapping)\n",
    "df.info()\n",
    "# Export the DataFrame to a new CSV file\n",
    "df.to_csv(new_csv_files[8], index=False)"
   ]
  },
  {
   "cell_type": "code",
   "execution_count": 24,
   "metadata": {},
   "outputs": [
    {
     "name": "stderr",
     "output_type": "stream",
     "text": [
      "C:\\Users\\lordn\\AppData\\Local\\Temp\\ipykernel_42140\\1286033953.py:2: DtypeWarning: Columns (16) have mixed types. Specify dtype option on import or set low_memory=False.\n",
      "  df = pd.read_csv(df_file_path, delimiter=',')\n"
     ]
    },
    {
     "name": "stdout",
     "output_type": "stream",
     "text": [
      "<class 'pandas.core.frame.DataFrame'>\n",
      "RangeIndex: 6294708 entries, 0 to 6294707\n",
      "Data columns (total 17 columns):\n",
      " #   Column                             Dtype  \n",
      "---  ------                             -----  \n",
      " 0   id_meetlocatie                     object \n",
      " 1   ndw_index                          object \n",
      " 2   start_meetperiode                  object \n",
      " 3   eind_meetperiode                   object \n",
      " 4   waarnemingen_intensiteit           int64  \n",
      " 5   waarnemingen_snelheid              int64  \n",
      " 6   gebruikte_minuten_intensiteit      int64  \n",
      " 7   gebruikte_minuten_snelheid         int64  \n",
      " 8   data_error_snelheid                int64  \n",
      " 9   data_error_intensiteit             int64  \n",
      " 10  gem_intensiteit                    int64  \n",
      " 11  gem_snelheid                       float64\n",
      " 12  gewogen_gem_snelheid               float64\n",
      " 13  rijstrook_rijbaan                  object \n",
      " 14  voertuigcategorie                  object \n",
      " 15  technical_exclusion                float64\n",
      " 16  traffic_flow_deviation_exclusions  object \n",
      "dtypes: float64(3), int64(7), object(7)\n",
      "memory usage: 816.4+ MB\n"
     ]
    }
   ],
   "source": [
    "df_file_path = (csv_files[9])\n",
    "df = pd.read_csv(df_file_path, delimiter=',')\n",
    "df.info()"
   ]
  },
  {
   "cell_type": "code",
   "execution_count": 25,
   "metadata": {},
   "outputs": [
    {
     "name": "stdout",
     "output_type": "stream",
     "text": [
      "<class 'pandas.core.frame.DataFrame'>\n",
      "RangeIndex: 6294708 entries, 0 to 6294707\n",
      "Data columns (total 17 columns):\n",
      " #   Column                             Dtype  \n",
      "---  ------                             -----  \n",
      " 0   id_location                        object \n",
      " 1   ndw_index                          object \n",
      " 2   start_measurements                 object \n",
      " 3   eind_measurements                  object \n",
      " 4   objects_intensity                  int64  \n",
      " 5   objects_speed                      int64  \n",
      " 6   minuts_used_intensity              int64  \n",
      " 7   minuts_used_speed                  int64  \n",
      " 8   data_error_speed                   int64  \n",
      " 9   data_error_intensity               int64  \n",
      " 10  average_intensity                  int64  \n",
      " 11  average_speed                      float64\n",
      " 12  weighted_average_speed             float64\n",
      " 13  part_lane                          object \n",
      " 14  vehiclecategory                    object \n",
      " 15  technical_exclusion                float64\n",
      " 16  traffic_flow_deviation_exclusions  object \n",
      "dtypes: float64(3), int64(7), object(7)\n",
      "memory usage: 816.4+ MB\n"
     ]
    }
   ],
   "source": [
    "# Renaming columns\n",
    "column_mapping = {\n",
    "\"id_meetlocatie\":\"id_location\",\n",
    "\"ndw_index\":\"ndw_index\",\n",
    "\"start_meetperiode\":\"start_measurements\",\n",
    "\"eind_meetperiode\":\"eind_measurements\",\n",
    "\"waarnemingen_intensiteit\":\"objects_intensity\",\n",
    "\"waarnemingen_snelheid\":\"objects_speed\",\n",
    "\"gebruikte_minuten_intensiteit\":\"minuts_used_intensity\",\n",
    "\"gebruikte_minuten_snelheid\":\"minuts_used_speed\",\n",
    "\"data_error_snelheid\":\"data_error_speed\",\n",
    "\"data_error_intensiteit\":\"data_error_intensity\",\n",
    "\"gem_intensiteit\":\"average_intensity\",\n",
    "\"gem_snelheid\":\"average_speed\",\n",
    "\"gewogen_gem_snelheid\":\"weighted_average_speed\",\n",
    "\"rijstrook_rijbaan\":\"part_lane\",\n",
    "\"voertuigcategorie\":\"vehiclecategory\",\n",
    "\"technical_exclusion\":\"technical_exclusion\",\n",
    "\"traffic_flow_deviation_exclusions\":\"traffic_flow_deviation_exclusions\",\n",
    "}\n",
    "df = df.rename(columns=column_mapping)\n",
    "df.info()\n",
    "# Export the DataFrame to a new CSV file\n",
    "df.to_csv(new_csv_files[9], index=False)"
   ]
  },
  {
   "cell_type": "code",
   "execution_count": 26,
   "metadata": {},
   "outputs": [
    {
     "name": "stdout",
     "output_type": "stream",
     "text": [
      "<class 'pandas.core.frame.DataFrame'>\n",
      "RangeIndex: 12590136 entries, 0 to 12590135\n",
      "Data columns (total 17 columns):\n",
      " #   Column                             Dtype  \n",
      "---  ------                             -----  \n",
      " 0   id_meetlocatie                     object \n",
      " 1   ndw_index                          object \n",
      " 2   start_meetperiode                  object \n",
      " 3   eind_meetperiode                   object \n",
      " 4   waarnemingen_intensiteit           int64  \n",
      " 5   waarnemingen_snelheid              int64  \n",
      " 6   gebruikte_minuten_intensiteit      int64  \n",
      " 7   gebruikte_minuten_snelheid         int64  \n",
      " 8   data_error_snelheid                int64  \n",
      " 9   data_error_intensiteit             int64  \n",
      " 10  gem_intensiteit                    int64  \n",
      " 11  gem_snelheid                       float64\n",
      " 12  gewogen_gem_snelheid               float64\n",
      " 13  rijstrook_rijbaan                  object \n",
      " 14  voertuigcategorie                  object \n",
      " 15  technical_exclusion                float64\n",
      " 16  traffic_flow_deviation_exclusions  float64\n",
      "dtypes: float64(4), int64(7), object(6)\n",
      "memory usage: 1.6+ GB\n"
     ]
    }
   ],
   "source": [
    "df_file_path = (csv_files[10])\n",
    "df = pd.read_csv(df_file_path, delimiter=',')\n",
    "df.info()"
   ]
  },
  {
   "cell_type": "code",
   "execution_count": 27,
   "metadata": {},
   "outputs": [
    {
     "name": "stdout",
     "output_type": "stream",
     "text": [
      "<class 'pandas.core.frame.DataFrame'>\n",
      "RangeIndex: 12590136 entries, 0 to 12590135\n",
      "Data columns (total 17 columns):\n",
      " #   Column                             Dtype  \n",
      "---  ------                             -----  \n",
      " 0   id_location                        object \n",
      " 1   ndw_index                          object \n",
      " 2   start_measurements                 object \n",
      " 3   eind_measurements                  object \n",
      " 4   objects_intensity                  int64  \n",
      " 5   objects_speed                      int64  \n",
      " 6   minuts_used_intensity              int64  \n",
      " 7   minuts_used_speed                  int64  \n",
      " 8   data_error_speed                   int64  \n",
      " 9   data_error_intensity               int64  \n",
      " 10  average_intensity                  int64  \n",
      " 11  average_speed                      float64\n",
      " 12  weighted_average_speed             float64\n",
      " 13  part_lane                          object \n",
      " 14  vehiclecategory                    object \n",
      " 15  technical_exclusion                float64\n",
      " 16  traffic_flow_deviation_exclusions  float64\n",
      "dtypes: float64(4), int64(7), object(6)\n",
      "memory usage: 1.6+ GB\n"
     ]
    }
   ],
   "source": [
    "# Renaming columns\n",
    "column_mapping = {\n",
    "\"id_meetlocatie\":\"id_location\",\n",
    "\"ndw_index\":\"ndw_index\",\n",
    "\"start_meetperiode\":\"start_measurements\",\n",
    "\"eind_meetperiode\":\"eind_measurements\",\n",
    "\"waarnemingen_intensiteit\":\"objects_intensity\",\n",
    "\"waarnemingen_snelheid\":\"objects_speed\",\n",
    "\"gebruikte_minuten_intensiteit\":\"minuts_used_intensity\",\n",
    "\"gebruikte_minuten_snelheid\":\"minuts_used_speed\",\n",
    "\"data_error_snelheid\":\"data_error_speed\",\n",
    "\"data_error_intensiteit\":\"data_error_intensity\",\n",
    "\"gem_intensiteit\":\"average_intensity\",\n",
    "\"gem_snelheid\":\"average_speed\",\n",
    "\"gewogen_gem_snelheid\":\"weighted_average_speed\",\n",
    "\"rijstrook_rijbaan\":\"part_lane\",\n",
    "\"voertuigcategorie\":\"vehiclecategory\",\n",
    "\"technical_exclusion\":\"technical_exclusion\",\n",
    "\"traffic_flow_deviation_exclusions\":\"traffic_flow_deviation_exclusions\",\n",
    "}\n",
    "df = df.rename(columns=column_mapping)\n",
    "df.info()\n",
    "# Export the DataFrame to a new CSV file\n",
    "df.to_csv(new_csv_files[10], index=False)"
   ]
  },
  {
   "cell_type": "code",
   "execution_count": 28,
   "metadata": {},
   "outputs": [
    {
     "name": "stderr",
     "output_type": "stream",
     "text": [
      "C:\\Users\\lordn\\AppData\\Local\\Temp\\ipykernel_42140\\252339799.py:2: DtypeWarning: Columns (16) have mixed types. Specify dtype option on import or set low_memory=False.\n",
      "  df = pd.read_csv(df_file_path, delimiter=',')\n"
     ]
    },
    {
     "name": "stdout",
     "output_type": "stream",
     "text": [
      "<class 'pandas.core.frame.DataFrame'>\n",
      "RangeIndex: 12589488 entries, 0 to 12589487\n",
      "Data columns (total 17 columns):\n",
      " #   Column                             Dtype  \n",
      "---  ------                             -----  \n",
      " 0   id_meetlocatie                     object \n",
      " 1   ndw_index                          object \n",
      " 2   start_meetperiode                  object \n",
      " 3   eind_meetperiode                   object \n",
      " 4   waarnemingen_intensiteit           int64  \n",
      " 5   waarnemingen_snelheid              int64  \n",
      " 6   gebruikte_minuten_intensiteit      int64  \n",
      " 7   gebruikte_minuten_snelheid         int64  \n",
      " 8   data_error_snelheid                int64  \n",
      " 9   data_error_intensiteit             int64  \n",
      " 10  gem_intensiteit                    int64  \n",
      " 11  gem_snelheid                       float64\n",
      " 12  gewogen_gem_snelheid               float64\n",
      " 13  rijstrook_rijbaan                  object \n",
      " 14  voertuigcategorie                  object \n",
      " 15  technical_exclusion                float64\n",
      " 16  traffic_flow_deviation_exclusions  object \n",
      "dtypes: float64(3), int64(7), object(7)\n",
      "memory usage: 1.6+ GB\n"
     ]
    }
   ],
   "source": [
    "df_file_path = (csv_files[11])\n",
    "df = pd.read_csv(df_file_path, delimiter=',')\n",
    "df.info()"
   ]
  },
  {
   "cell_type": "code",
   "execution_count": 31,
   "metadata": {},
   "outputs": [
    {
     "name": "stdout",
     "output_type": "stream",
     "text": [
      "<class 'pandas.core.frame.DataFrame'>\n",
      "RangeIndex: 12589488 entries, 0 to 12589487\n",
      "Data columns (total 17 columns):\n",
      " #   Column                             Dtype  \n",
      "---  ------                             -----  \n",
      " 0   id_location                        object \n",
      " 1   ndw_index                          object \n",
      " 2   start_measurements                 object \n",
      " 3   eind_measurements                  object \n",
      " 4   objects_intensity                  int64  \n",
      " 5   objects_speed                      int64  \n",
      " 6   minuts_used_intensity              int64  \n",
      " 7   minuts_used_speed                  int64  \n",
      " 8   data_error_speed                   int64  \n",
      " 9   data_error_intensity               int64  \n",
      " 10  average_intensity                  int64  \n",
      " 11  average_speed                      float64\n",
      " 12  weighted_average_speed             float64\n",
      " 13  part_lane                          object \n",
      " 14  vehiclecategory                    object \n",
      " 15  technical_exclusion                float64\n",
      " 16  traffic_flow_deviation_exclusions  object \n",
      "dtypes: float64(3), int64(7), object(7)\n",
      "memory usage: 1.6+ GB\n"
     ]
    }
   ],
   "source": [
    "# Renaming columns\n",
    "column_mapping = {\n",
    "\"id_meetlocatie\":\"id_location\",\n",
    "\"ndw_index\":\"ndw_index\",\n",
    "\"start_meetperiode\":\"start_measurements\",\n",
    "\"eind_meetperiode\":\"eind_measurements\",\n",
    "\"waarnemingen_intensiteit\":\"objects_intensity\",\n",
    "\"waarnemingen_snelheid\":\"objects_speed\",\n",
    "\"gebruikte_minuten_intensiteit\":\"minuts_used_intensity\",\n",
    "\"gebruikte_minuten_snelheid\":\"minuts_used_speed\",\n",
    "\"data_error_snelheid\":\"data_error_speed\",\n",
    "\"data_error_intensiteit\":\"data_error_intensity\",\n",
    "\"gem_intensiteit\":\"average_intensity\",\n",
    "\"gem_snelheid\":\"average_speed\",\n",
    "\"gewogen_gem_snelheid\":\"weighted_average_speed\",\n",
    "\"rijstrook_rijbaan\":\"part_lane\",\n",
    "\"voertuigcategorie\":\"vehiclecategory\",\n",
    "\"technical_exclusion\":\"technical_exclusion\",\n",
    "\"traffic_flow_deviation_exclusions\":\"traffic_flow_deviation_exclusions\",\n",
    "}\n",
    "df = df.rename(columns=column_mapping)\n",
    "df.info()\n",
    "# Export the DataFrame to a new CSV file\n",
    "df.to_csv(new_csv_files[11], index=False)"
   ]
  },
  {
   "cell_type": "code",
   "execution_count": 32,
   "metadata": {},
   "outputs": [
    {
     "name": "stdout",
     "output_type": "stream",
     "text": [
      "<class 'pandas.core.frame.DataFrame'>\n",
      "RangeIndex: 331279 entries, 0 to 331278\n",
      "Data columns (total 7 columns):\n",
      " #   Column             Non-Null Count   Dtype \n",
      "---  ------             --------------   ----- \n",
      " 0   VRI_ID             331279 non-null  int64 \n",
      " 1   Date               331279 non-null  object\n",
      " 2   Hour               331279 non-null  object\n",
      " 3   Count              331279 non-null  int64 \n",
      " 4   Direction          331279 non-null  object\n",
      " 5   Direction_English  331279 non-null  object\n",
      " 6   Modality_English   331279 non-null  object\n",
      "dtypes: int64(2), object(5)\n",
      "memory usage: 17.7+ MB\n"
     ]
    }
   ],
   "source": [
    "df_file_path = (csv_files[12])\n",
    "df = pd.read_csv(df_file_path, delimiter=',')\n",
    "df.info()"
   ]
  },
  {
   "cell_type": "code",
   "execution_count": 33,
   "metadata": {},
   "outputs": [
    {
     "name": "stdout",
     "output_type": "stream",
     "text": [
      "<class 'pandas.core.frame.DataFrame'>\n",
      "RangeIndex: 331279 entries, 0 to 331278\n",
      "Data columns (total 7 columns):\n",
      " #   Column             Non-Null Count   Dtype \n",
      "---  ------             --------------   ----- \n",
      " 0   VRI_ID             331279 non-null  int64 \n",
      " 1   Date               331279 non-null  object\n",
      " 2   Hour               331279 non-null  object\n",
      " 3   Count              331279 non-null  int64 \n",
      " 4   Direction          331279 non-null  object\n",
      " 5   Direction_English  331279 non-null  object\n",
      " 6   Modality_English   331279 non-null  object\n",
      "dtypes: int64(2), object(5)\n",
      "memory usage: 17.7+ MB\n"
     ]
    }
   ],
   "source": [
    "df = df.rename(columns=column_mapping)\n",
    "df.info()\n",
    "# Export the DataFrame to a new CSV file\n",
    "df.to_csv(new_csv_files[12], index=False)"
   ]
  },
  {
   "cell_type": "code",
   "execution_count": 34,
   "metadata": {},
   "outputs": [
    {
     "name": "stdout",
     "output_type": "stream",
     "text": [
      "<class 'pandas.core.frame.DataFrame'>\n",
      "RangeIndex: 48 entries, 0 to 47\n",
      "Data columns (total 9 columns):\n",
      " #   Column             Non-Null Count  Dtype \n",
      "---  ------             --------------  ----- \n",
      " 0   Sensor_ID          48 non-null     int64 \n",
      " 1   Sensor_no          48 non-null     int64 \n",
      " 2   Signalgroup        48 non-null     int64 \n",
      " 3   Modality           48 non-null     object\n",
      " 4   Modality_English   48 non-null     object\n",
      " 5   Modality_encoded   48 non-null     object\n",
      " 6   Direction          48 non-null     object\n",
      " 7   Direction_English  48 non-null     object\n",
      " 8   Direction_encoded  48 non-null     object\n",
      "dtypes: int64(3), object(6)\n",
      "memory usage: 3.5+ KB\n"
     ]
    }
   ],
   "source": [
    "df_file_path = (csv_files[13])\n",
    "df = pd.read_csv(df_file_path, delimiter=',')\n",
    "df.info()"
   ]
  },
  {
   "cell_type": "code",
   "execution_count": 35,
   "metadata": {},
   "outputs": [
    {
     "name": "stdout",
     "output_type": "stream",
     "text": [
      "<class 'pandas.core.frame.DataFrame'>\n",
      "RangeIndex: 48 entries, 0 to 47\n",
      "Data columns (total 9 columns):\n",
      " #   Column             Non-Null Count  Dtype \n",
      "---  ------             --------------  ----- \n",
      " 0   Sensor_ID          48 non-null     int64 \n",
      " 1   Sensor_no          48 non-null     int64 \n",
      " 2   Signalgroup        48 non-null     int64 \n",
      " 3   Modality           48 non-null     object\n",
      " 4   Modality_English   48 non-null     object\n",
      " 5   Modality_encoded   48 non-null     object\n",
      " 6   Direction          48 non-null     object\n",
      " 7   Direction_English  48 non-null     object\n",
      " 8   Direction_encoded  48 non-null     object\n",
      "dtypes: int64(3), object(6)\n",
      "memory usage: 3.5+ KB\n"
     ]
    }
   ],
   "source": [
    "df = df.rename(columns=column_mapping)\n",
    "df.info()\n",
    "# Export the DataFrame to a new CSV file\n",
    "df.to_csv(new_csv_files[13], index=False)"
   ]
  }
 ],
 "metadata": {
  "kernelspec": {
   "display_name": "Python 3",
   "language": "python",
   "name": "python3"
  },
  "language_info": {
   "codemirror_mode": {
    "name": "ipython",
    "version": 3
   },
   "file_extension": ".py",
   "mimetype": "text/x-python",
   "name": "python",
   "nbconvert_exporter": "python",
   "pygments_lexer": "ipython3",
   "version": "3.12.3"
  }
 },
 "nbformat": 4,
 "nbformat_minor": 2
}
